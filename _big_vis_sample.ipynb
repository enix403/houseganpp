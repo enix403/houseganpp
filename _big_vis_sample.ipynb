{
 "cells": [
  {
   "cell_type": "code",
   "execution_count": 14,
   "id": "c66dc4d2-743b-4e6e-a683-8e7428be5c4d",
   "metadata": {},
   "outputs": [
    {
     "name": "stdout",
     "output_type": "stream",
     "text": [
      "The autoreload extension is already loaded. To reload it, use:\n",
      "  %reload_ext autoreload\n"
     ]
    }
   ],
   "source": [
    "%load_ext autoreload\n",
    "%autoreload 2"
   ]
  },
  {
   "cell_type": "code",
   "execution_count": 59,
   "id": "9727883f-7d23-49a3-8190-f1ce6f77d4b9",
   "metadata": {},
   "outputs": [],
   "source": [
    "import os\n",
    "import numpy as np\n",
    "import json\n",
    "from dataclasses import dataclass\n",
    "\n",
    "import torch\n",
    "import torch.nn.functional as F\n",
    "from torchvision.utils import save_image\n",
    "import networkx as nx\n",
    "from matplotlib import pyplot as plt\n",
    "import matplotlib.patches as patches\n",
    "from PIL import Image, ImageDraw\n",
    "import webcolors\n",
    "\n",
    "from minimal.imaging import draw_plan\n",
    "from minimal.gen import generate_plan\n",
    "from minimal.layout import LayoutGraphBuilder, LayoutGraph, NodeType\n",
    "\n",
    "%matplotlib inline"
   ]
  },
  {
   "cell_type": "code",
   "execution_count": 106,
   "id": "1866782e-8b92-4119-9f18-0fcee389790d",
   "metadata": {},
   "outputs": [],
   "source": [
    "from minimal import sample_graphs\n",
    "\n",
    "g = sample_graphs.two()"
   ]
  },
  {
   "cell_type": "code",
   "execution_count": 107,
   "id": "597b0d53-c770-438f-9a8c-85ddf645b905",
   "metadata": {},
   "outputs": [
    {
     "data": {
      "text/plain": [
       "LayoutGraph([0, 1, 2, 2, 2, 3, 3, 3, 4, 16, 16, 16, 16, 16, 16, 16, 16, 14], [(0, 2), (2, 5), (1, 9), (0, 11), (0, 17), (7, 16), (6, 14), (4, 8), (3, 6), (0, 1), (5, 15), (0, 4), (0, 10), (4, 7), (3, 11), (4, 10), (4, 16), (3, 14), (4, 13), (0, 3), (0, 9), (0, 12), (8, 13), (2, 12), (2, 15)])"
      ]
     },
     "execution_count": 107,
     "metadata": {},
     "output_type": "execute_result"
    }
   ],
   "source": [
    "g"
   ]
  }
 ],
 "metadata": {
  "kernelspec": {
   "display_name": "Python 3 (ipykernel)",
   "language": "python",
   "name": "python3"
  },
  "language_info": {
   "codemirror_mode": {
    "name": "ipython",
    "version": 3
   },
   "file_extension": ".py",
   "mimetype": "text/x-python",
   "name": "python",
   "nbconvert_exporter": "python",
   "pygments_lexer": "ipython3",
   "version": "3.9.21"
  }
 },
 "nbformat": 4,
 "nbformat_minor": 5
}
