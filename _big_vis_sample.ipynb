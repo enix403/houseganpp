{
 "cells": [
  {
   "cell_type": "code",
   "execution_count": 14,
   "id": "c66dc4d2-743b-4e6e-a683-8e7428be5c4d",
   "metadata": {},
   "outputs": [
    {
     "name": "stdout",
     "output_type": "stream",
     "text": [
      "The autoreload extension is already loaded. To reload it, use:\n",
      "  %reload_ext autoreload\n"
     ]
    }
   ],
   "source": [
    "%load_ext autoreload\n",
    "%autoreload 2"
   ]
  },
  {
   "cell_type": "code",
   "execution_count": 46,
   "id": "9727883f-7d23-49a3-8190-f1ce6f77d4b9",
   "metadata": {},
   "outputs": [],
   "source": [
    "import os\n",
    "import numpy as np\n",
    "import json\n",
    "from dataclasses import dataclass\n",
    "\n",
    "import torch\n",
    "import torch.nn.functional as F\n",
    "from torchvision.utils import save_image\n",
    "import networkx as nx\n",
    "from matplotlib import pyplot as plt\n",
    "import matplotlib.patches as patches\n",
    "from PIL import Image, ImageDraw\n",
    "import webcolors\n",
    "\n",
    "from minimal.imaging import draw_plan\n",
    "from minimal.gen import generate_plan\n",
    "\n",
    "%matplotlib inline"
   ]
  },
  {
   "cell_type": "code",
   "execution_count": 52,
   "id": "1866782e-8b92-4119-9f18-0fcee389790d",
   "metadata": {},
   "outputs": [
    {
     "ename": "IndexError",
     "evalue": "list assignment index out of range",
     "output_type": "error",
     "traceback": [
      "\u001b[0;31m---------------------------------------------------------------------------\u001b[0m",
      "\u001b[0;31mIndexError\u001b[0m                                Traceback (most recent call last)",
      "Cell \u001b[0;32mIn[52], line 34\u001b[0m\n\u001b[1;32m     31\u001b[0m bld\u001b[38;5;241m.\u001b[39madd_edge(r3, NodeType\u001b[38;5;241m.\u001b[39mINTERIOR_DOOR)\n\u001b[1;32m     33\u001b[0m g \u001b[38;5;241m=\u001b[39m bld\u001b[38;5;241m.\u001b[39mbuild()\n\u001b[0;32m---> 34\u001b[0m \u001b[43mg\u001b[49m\u001b[38;5;241;43m.\u001b[39;49m\u001b[43mcorrect_doors\u001b[49m\u001b[43m(\u001b[49m\u001b[43m)\u001b[49m\n\u001b[1;32m     36\u001b[0m g\u001b[38;5;241m.\u001b[39mdraw()\n",
      "File \u001b[0;32m~/ser/follows/houseganpp/minimal/layout.py:178\u001b[0m, in \u001b[0;36mLayoutGraph.correct_doors\u001b[0;34m(self)\u001b[0m\n\u001b[1;32m    175\u001b[0m         doors_to_delete\u001b[38;5;241m.\u001b[39mappend(i)\n\u001b[1;32m    177\u001b[0m \u001b[38;5;28;01mfor\u001b[39;00m i \u001b[38;5;129;01min\u001b[39;00m doors_to_delete:\n\u001b[0;32m--> 178\u001b[0m     \u001b[38;5;28;43mself\u001b[39;49m\u001b[38;5;241;43m.\u001b[39;49m\u001b[43mdelete_node\u001b[49m\u001b[43m(\u001b[49m\u001b[43mi\u001b[49m\u001b[43m)\u001b[49m\n\u001b[1;32m    180\u001b[0m \u001b[38;5;66;03m# Add a INTERIOR_DOOR node between every pair of\u001b[39;00m\n\u001b[1;32m    181\u001b[0m \u001b[38;5;66;03m# connected rooms nodes\u001b[39;00m\n\u001b[1;32m    182\u001b[0m adjacent_rooms \u001b[38;5;241m=\u001b[39m []\n",
      "File \u001b[0;32m~/ser/follows/houseganpp/minimal/layout.py:140\u001b[0m, in \u001b[0;36mLayoutGraph.delete_node\u001b[0;34m(self, index)\u001b[0m\n\u001b[1;32m    139\u001b[0m \u001b[38;5;28;01mdef\u001b[39;00m\u001b[38;5;250m \u001b[39m\u001b[38;5;21mdelete_node\u001b[39m(\u001b[38;5;28mself\u001b[39m, index: \u001b[38;5;28mint\u001b[39m):\n\u001b[0;32m--> 140\u001b[0m     \u001b[38;5;28;01mdel\u001b[39;00m \u001b[38;5;28mself\u001b[39m\u001b[38;5;241m.\u001b[39mnodes[index]\n\u001b[1;32m    142\u001b[0m     \u001b[38;5;66;03m# Shirt indexes inside the edges\u001b[39;00m\n\u001b[1;32m    143\u001b[0m     new_edges \u001b[38;5;241m=\u001b[39m []\n",
      "\u001b[0;31mIndexError\u001b[0m: list assignment index out of range"
     ]
    }
   ],
   "source": [
    "from minimal.layout import LayoutGraphBuilder, LayoutGraph, NodeType\n",
    "\n",
    "bld = LayoutGraphBuilder()\n",
    "\n",
    "liv = bld.add_node(NodeType.LIVING_ROOM)\n",
    "kit = bld.add_node(NodeType.KITCHEN)\n",
    "bal = bld.add_node(NodeType.BALCONY)\n",
    "r1 = bld.add_node(NodeType.BEDROOM)\n",
    "b1 = bld.add_node(NodeType.BATHROOM)\n",
    "r2 = bld.add_node(NodeType.BEDROOM)\n",
    "b2 = bld.add_node(NodeType.BATHROOM)\n",
    "r3 = bld.add_node(NodeType.BEDROOM)\n",
    "b3 = bld.add_node(NodeType.BATHROOM)\n",
    "fr = bld.add_node(NodeType.FRONT_DOOR)\n",
    "\n",
    "bld.add_edge(liv, fr)\n",
    "bld.add_edge(liv, kit)\n",
    "bld.add_edge(liv, r1)\n",
    "bld.add_edge(liv, r2)\n",
    "bld.add_edge(liv, r3)\n",
    "\n",
    "bld.add_edge(r1, b1)\n",
    "bld.add_edge(r2, b2)\n",
    "bld.add_edge(r3, b3)\n",
    "bld.add_edge(r3, bal)\n",
    "bld.add_edge(r3, NodeType.INTERIOR_DOOR)\n",
    "bld.add_edge(r3, NodeType.INTERIOR_DOOR)\n",
    "bld.add_edge(r3, NodeType.INTERIOR_DOOR)\n",
    "bld.add_edge(r3, NodeType.INTERIOR_DOOR)\n",
    "bld.add_edge(r3, NodeType.INTERIOR_DOOR)\n",
    "bld.add_edge(r3, NodeType.INTERIOR_DOOR)\n",
    "\n",
    "g = bld.build()\n",
    "g.correct_doors()\n",
    "\n",
    "g.draw()"
   ]
  }
 ],
 "metadata": {
  "kernelspec": {
   "display_name": "Python 3 (ipykernel)",
   "language": "python",
   "name": "python3"
  },
  "language_info": {
   "codemirror_mode": {
    "name": "ipython",
    "version": 3
   },
   "file_extension": ".py",
   "mimetype": "text/x-python",
   "name": "python",
   "nbconvert_exporter": "python",
   "pygments_lexer": "ipython3",
   "version": "3.9.21"
  }
 },
 "nbformat": 4,
 "nbformat_minor": 5
}
