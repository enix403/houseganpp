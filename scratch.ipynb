{
 "cells": [
  {
   "cell_type": "code",
   "execution_count": 1,
   "id": "c66dc4d2-743b-4e6e-a683-8e7428be5c4d",
   "metadata": {},
   "outputs": [],
   "source": [
    "%load_ext autoreload\n",
    "%autoreload 2"
   ]
  },
  {
   "cell_type": "code",
   "execution_count": 60,
   "id": "9727883f-7d23-49a3-8190-f1ce6f77d4b9",
   "metadata": {},
   "outputs": [],
   "source": [
    "import os\n",
    "import numpy as np\n",
    "import json\n",
    "import cv2\n",
    "\n",
    "import torch\n",
    "import torch.nn.functional as F\n",
    "from torchvision.utils import save_image\n",
    "import networkx as nx\n",
    "from matplotlib import pyplot as plt\n",
    "import matplotlib.patches as patches\n",
    "from PIL import Image, ImageDraw\n",
    "import webcolors\n",
    "\n",
    "from minimal.dataset import FloorplanGraphDataset\n",
    "from minimal.utils import draw_plan\n",
    "from highlevel.lib import generate_plan_v2, LayoutGraph, NodeType, _make_edge_triplets\n",
    "\n",
    "%matplotlib inline"
   ]
  },
  {
   "cell_type": "code",
   "execution_count": 25,
   "id": "8fef9286-234a-4c1a-8f8b-a776c5152b9e",
   "metadata": {},
   "outputs": [],
   "source": [
    "sample = next(iter(FloorplanGraphDataset()))"
   ]
  },
  {
   "cell_type": "code",
   "execution_count": 27,
   "id": "98ae5fae-fa2c-47ac-a582-d62dfa748430",
   "metadata": {},
   "outputs": [],
   "source": [
    "_, nds, eds = sample"
   ]
  },
  {
   "cell_type": "code",
   "execution_count": 46,
   "id": "008d4c0d-50fd-404a-81e8-92dba610d9b6",
   "metadata": {},
   "outputs": [
    {
     "name": "stdout",
     "output_type": "stream",
     "text": [
      "[4, 2, 2, 3, 1, 0, 16, 16, 16, 16, 16, 14]\n"
     ]
    }
   ],
   "source": [
    "nodes = torch.where(nds == 1)[1].tolist()\n",
    "print(nodes)"
   ]
  },
  {
   "cell_type": "code",
   "execution_count": 76,
   "id": "16befc0a-5031-4ca9-9206-eaf03a537d86",
   "metadata": {},
   "outputs": [
    {
     "name": "stdout",
     "output_type": "stream",
     "text": [
      "[(0, 5), (0, 7), (1, 5), (1, 6), (2, 5), (2, 8), (3, 5), (3, 9), (4, 5), (4, 10), (5, 6), (5, 7), (5, 8), (5, 9), (5, 10), (5, 11)]\n"
     ]
    }
   ],
   "source": [
    "edges = [(a, b) for a, x, b in eds.tolist() if x == 1]\n",
    "print(edges)"
   ]
  },
  {
   "cell_type": "code",
   "execution_count": 61,
   "id": "fa1d7063-e78a-489a-87ad-adc67206d7f8",
   "metadata": {},
   "outputs": [],
   "source": [
    "g = LayoutGraph(nodes, edges)"
   ]
  },
  {
   "cell_type": "code",
   "execution_count": 74,
   "id": "fee99943-9e26-4829-9c9e-168c859b474b",
   "metadata": {},
   "outputs": [],
   "source": [
    "masks = generate_plan_v2(g, num_iters=25)"
   ]
  },
  {
   "cell_type": "code",
   "execution_count": 75,
   "id": "e1f36787-bbf4-4117-a236-cbf573b279e3",
   "metadata": {},
   "outputs": [
    {
     "data": {
      "image/png": "[encoded data removed]",
      "text/plain": [
       "<PIL.Image.Image image mode=RGBA size=256x256>"
      ]
     },
     "execution_count": 75,
     "metadata": {},
     "output_type": "execute_result"
    }
   ],
   "source": [
    "draw_plan(masks, nodes)"
   ]
  },
  {
   "cell_type": "code",
   "execution_count": 71,
   "id": "092dbb00-ffa7-4bf4-8c5c-b6a4fe6e866b",
   "metadata": {},
   "outputs": [
    {
     "data": {
      "image/png": "[encoded data removed]",
      "text/plain": [
       "<PIL.Image.Image image mode=RGBA size=256x256>"
      ]
     },
     "execution_count": 71,
     "metadata": {},
     "output_type": "execute_result"
    }
   ],
   "source": [
    "draw_plan(masks, nodes)"
   ]
  },
  {
   "cell_type": "code",
   "execution_count": 69,
   "id": "b48e5f70-20cc-432b-9d10-a86336867fa3",
   "metadata": {},
   "outputs": [
    {
     "data": {
      "image/png": "[encoded data removed]",
      "text/plain": [
       "<PIL.Image.Image image mode=RGBA size=256x256>"
      ]
     },
     "execution_count": 69,
     "metadata": {},
     "output_type": "execute_result"
    }
   ],
   "source": [
    "draw_plan(masks, nodes)"
   ]
  }
 ],
 "metadata": {
  "kernelspec": {
   "display_name": "Python 3 (ipykernel)",
   "language": "python",
   "name": "python3"
  },
  "language_info": {
   "codemirror_mode": {
    "name": "ipython",
    "version": 3
   },
   "file_extension": ".py",
   "mimetype": "text/x-python",
   "name": "python",
   "nbconvert_exporter": "python",
   "pygments_lexer": "ipython3",
   "version": "3.9.21"
  }
 },
 "nbformat": 4,
 "nbformat_minor": 5
}
