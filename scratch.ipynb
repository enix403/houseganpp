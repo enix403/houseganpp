{
 "cells": [
  {
   "cell_type": "code",
   "execution_count": null,
   "id": "a6e7232a-b94b-4bb7-b046-2ae9df02b99c",
   "metadata": {},
   "outputs": [],
   "source": [
    "%load_ext autoreload\n",
    "%autoreload 2"
   ]
  },
  {
   "cell_type": "code",
   "execution_count": 4,
   "id": "bd22a129-7d7d-4c98-b93f-f3e7e6212757",
   "metadata": {},
   "outputs": [],
   "source": [
    "import os\n",
    "import numpy as np\n",
    "import json\n",
    "\n",
    "import torch\n",
    "from torchvision.utils import save_image\n",
    "import networkx as nx\n",
    "from matplotlib import pyplot as plt\n",
    "\n",
    "from minimal.arch import Generator\n",
    "from minimal.dataset import FloorplanGraphDataset\n",
    "from minimal.utils import (\n",
    "    init_input,\n",
    "    draw_masks,\n",
    "    draw_graph\n",
    ")\n",
    "\n",
    "%matplotlib inline"
   ]
  }
 ],
 "metadata": {
  "kernelspec": {
   "display_name": "Python 3 (ipykernel)",
   "language": "python",
   "name": "python3"
  },
  "language_info": {
   "codemirror_mode": {
    "name": "ipython",
    "version": 3
   },
   "file_extension": ".py",
   "mimetype": "text/x-python",
   "name": "python",
   "nbconvert_exporter": "python",
   "pygments_lexer": "ipython3",
   "version": "3.9.21"
  }
 },
 "nbformat": 4,
 "nbformat_minor": 5
}
