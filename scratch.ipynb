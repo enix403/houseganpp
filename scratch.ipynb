{
 "cells": [
  {
   "cell_type": "code",
   "execution_count": 1,
   "id": "2ad02a19-dcd0-4b86-ae42-6c81bd2013c6",
   "metadata": {},
   "outputs": [],
   "source": [
    "%load_ext autoreload\n",
    "%autoreload 2"
   ]
  },
  {
   "cell_type": "code",
   "execution_count": 130,
   "id": "620ce43d-25fb-4027-bc61-353121ad592c",
   "metadata": {},
   "outputs": [],
   "source": [
    "import os\n",
    "import argparse\n",
    "import numpy as np\n",
    "import json\n",
    "\n",
    "import torch\n",
    "import torchvision.transforms as transforms\n",
    "from torchvision.utils import save_image\n",
    "import networkx as nx\n",
    "from PIL import Image, ImageDraw\n",
    "from matplotlib import pyplot as plt\n",
    "\n",
    "from minimal.arch import Generator\n",
    "\n",
    "from minimal.dataset import (\n",
    "    FloorplanGraphDataset,\n",
    "    floorplan_collate_fn,\n",
    "    reader,\n",
    "    one_hot_embedding,\n",
    "    floorplan_collate_fn\n",
    ")\n",
    "\n",
    "from minimal.utils import (\n",
    "    init_input,\n",
    "    draw_masks,\n",
    "    draw_graph\n",
    ")\n",
    "\n",
    "%matplotlib inline"
   ]
  },
  {
   "cell_type": "code",
   "execution_count": 3,
   "id": "34f223d3-d2f9-4b19-9e9c-b40acf73e398",
   "metadata": {},
   "outputs": [],
   "source": [
    "data_path = \"./data/sample_list.txt\"\n",
    "transform = transforms.Normalize(mean=[0.5], std=[0.5])\n",
    "target_set = 8\n",
    "split = \"test\""
   ]
  },
  {
   "cell_type": "code",
   "execution_count": 4,
   "id": "ee202e97-4c6a-44f7-ada8-5b8d4cb82a2e",
   "metadata": {},
   "outputs": [],
   "source": [
    "with open(\"data/expr.json\") as f:\n",
    "    info = json.load(f)"
   ]
  },
  {
   "cell_type": "code",
   "execution_count": 5,
   "id": "98e58d30-eba9-4889-a5ad-7941d4d58804",
   "metadata": {},
   "outputs": [],
   "source": [
    "# read from file\n",
    "\n",
    "# rms_type: \"room_type\" from file\n",
    "# rms_bbs: (12, 4): \"boxes\" from file, but centralized\n",
    "# fp_eds: (54, 4): \"edges\" from file, but centralized\n",
    "# eds_to_rms: list[list[int]] \"ed_rm\" from file\n",
    "# eds_to_rms_tmp: eds_to_rms but the inner list truncated to length 1\n",
    "#                 i.e eds_to_rms_tmp[i][0] == eds_to_rms[i][0] for every i\n",
    "\n",
    "rms_type = info[\"room_type\"]\n",
    "rms_bbs_j = np.array(info[\"boxes\"])\n",
    "fp_eds_j = np.array(info[\"edges\"])[:, :4]\n",
    "eds_to_rms = info[\"ed_rm\"]"
   ]
  },
  {
   "cell_type": "code",
   "execution_count": 6,
   "id": "a55b3911-f416-46e2-bd7d-91ff64b1a26a",
   "metadata": {},
   "outputs": [],
   "source": [
    "# convert bounding boxes from range [0,256] to range [0,1]\n",
    "rms_bbs_01 = rms_bbs_j / 256.0\n",
    "fp_eds_01 = fp_eds_j / 256.0"
   ]
  },
  {
   "cell_type": "code",
   "execution_count": 7,
   "id": "d017d5b6-598c-4225-bcc1-45d866e3e5bd",
   "metadata": {},
   "outputs": [
    {
     "name": "stdout",
     "output_type": "stream",
     "text": [
      "(54, 4)\n"
     ]
    }
   ],
   "source": [
    "# discard last 2 number of fp_eds\n",
    "# new shape: (*, 4)\n",
    "print(fp_eds_01.shape)"
   ]
  },
  {
   "cell_type": "code",
   "execution_count": 8,
   "id": "67c37a7c-d6ca-4746-831a-8eb00e0c056c",
   "metadata": {},
   "outputs": [],
   "source": [
    "# (R, 2)\n",
    "rooms_top_lefts = rms_bbs_01[:, :2]\n",
    "rooms_btm_rights = rms_bbs_01[:, 2:]\n",
    "\n",
    "# top left of the bounding box of the masks\n",
    "global_tl = np.min(rooms_top_lefts, axis=0)\n",
    "# bottom right of the bounding box of the masks\n",
    "global_br = np.max(rooms_btm_rights, axis=0)"
   ]
  },
  {
   "cell_type": "code",
   "execution_count": 15,
   "id": "42267509-597e-461c-976f-0767f142d2dd",
   "metadata": {},
   "outputs": [],
   "source": [
    "# Make the center of the overall bounding box (0.5, 0.5)\n",
    "# i.e centralize the floor plan \n",
    "\n",
    "rms_bbs = np.zeros_like(rms_bbs_01)\n",
    "fp_eds = np.zeros_like(fp_eds_01)\n",
    "\n",
    "shift = (global_tl + global_br) / 2.0 - 0.5\n",
    "\n",
    "rms_bbs[:, :2] = rms_bbs_01[:, :2] - shift\n",
    "rms_bbs[:, 2:] = rms_bbs_01[:, 2:] - shift\n",
    "fp_eds[:, :2] = fp_eds_01[:, :2] - shift\n",
    "fp_eds[:, 2:] = fp_eds_01[:, 2:] - shift"
   ]
  },
  {
   "cell_type": "code",
   "execution_count": 69,
   "id": "4a278255-d6eb-4e5f-9957-5188b1686940",
   "metadata": {},
   "outputs": [],
   "source": [
    "def make_sequence(edges):\n",
    "    polys = []\n",
    "    \n",
    "    v_curr = tuple(edges[0][:2])\n",
    "    e_ind_curr = 0\n",
    "    e_visited = [0]\n",
    "    seq_tracker = [v_curr]\n",
    "    find_next = False\n",
    "\n",
    "    while len(e_visited) < len(edges):\n",
    "        if find_next == False:\n",
    "            if v_curr == tuple(edges[e_ind_curr][2:]):\n",
    "                v_curr = tuple(edges[e_ind_curr][:2])\n",
    "            else:\n",
    "                v_curr = tuple(edges[e_ind_curr][2:])\n",
    "            find_next = True\n",
    "        else:\n",
    "            # look for next edge\n",
    "            for k, e in enumerate(edges):\n",
    "                if k not in e_visited:\n",
    "                    if v_curr == tuple(e[:2]):\n",
    "                        v_curr = tuple(e[2:])\n",
    "                        e_ind_curr = k\n",
    "                        e_visited.append(k)\n",
    "                        break\n",
    "                    elif v_curr == tuple(e[2:]):\n",
    "                        v_curr = tuple(e[:2])\n",
    "                        e_ind_curr = k\n",
    "                        e_visited.append(k)\n",
    "                        break\n",
    "\n",
    "        # extract next sequence\n",
    "        if v_curr == seq_tracker[-1]:\n",
    "            polys.append(seq_tracker)\n",
    "            for k, e in enumerate(edges):\n",
    "                if k not in e_visited:\n",
    "                    v_curr = tuple(edges[0][:2])\n",
    "                    seq_tracker = [v_curr]\n",
    "                    find_next = False\n",
    "                    e_ind_curr = k\n",
    "                    e_visited.append(k)\n",
    "                    break\n",
    "        else:\n",
    "            seq_tracker.append(v_curr)\n",
    "    polys.append(seq_tracker)\n",
    "\n",
    "    return polys"
   ]
  },
  {
   "cell_type": "code",
   "execution_count": 125,
   "id": "f658fbb0-ff8b-4c2d-b9d5-f62cd4835b98",
   "metadata": {},
   "outputs": [],
   "source": [
    "rms_masks = []\n",
    "im_size = 256\n",
    "out_size = 64\n",
    "fp_mk = np.zeros((out_size, out_size))"
   ]
  },
  {
   "cell_type": "code",
   "execution_count": 126,
   "id": "e55d7ab5-f2a4-46c0-bf1c-f3823e2412ca",
   "metadata": {},
   "outputs": [],
   "source": [
    "nodes = rms_type"
   ]
  },
  {
   "cell_type": "code",
   "execution_count": 127,
   "id": "a80b9025-995e-4395-8166-2a21ce5ffb43",
   "metadata": {},
   "outputs": [],
   "source": [
    "for k in range(len(nodes)):\n",
    "\n",
    "    # add rooms and doors\n",
    "    # eds = []\n",
    "    # for l, e_map in enumerate(eds_to_rms_tmp):\n",
    "    #     if k == e_map[0]:\n",
    "    #         eds.append(l)\n",
    "\n",
    "    # Index of edges from eds_to_rms which have node k as their first node\n",
    "    eds = [i for i, inner in enumerate(eds_to_rms) if inner[0] == k]\n",
    "        \n",
    "    edges = fp_eds[eds]\n",
    "    poly = make_sequence(edges)[0]\n",
    "    poly = [(im_size * x, im_size * y) for x, y in poly]\n",
    "\n",
    "    rm_im = Image.new(\"L\", (im_size, im_size))\n",
    "\n",
    "    if len(poly) >= 2:\n",
    "        ImageDraw \\\n",
    "            .Draw(rm_im) \\\n",
    "            .polygon(poly, fill=\"white\")\n",
    "    else:\n",
    "        print(\"Empty room\")\n",
    "        exit(0)\n",
    "\n",
    "    rm_im = rm_im.resize((out_size, out_size))\n",
    "    rm_arr = np.array(rm_im)\n",
    "    inds = np.where(rm_arr > 0)\n",
    "    rm_arr[inds] = 1.0\n",
    "    rms_masks.append(rm_arr)\n",
    "\n",
    "    if rms_type[k] != 15 and rms_type[k] != 17:\n",
    "        fp_mk[inds] = k + 1\n",
    "\n",
    "# trick to remove overlap\n",
    "for k in range(len(nodes)):\n",
    "    if rms_type[k] != 15 and rms_type[k] != 17:\n",
    "        rm_arr = np.zeros((out_size, out_size))\n",
    "        inds = np.where(fp_mk == k + 1)\n",
    "        rm_arr[inds] = 1.0\n",
    "        rms_masks[k] = rm_arr\n",
    "\n",
    "rms_masks = np.array(rms_masks)"
   ]
  },
  {
   "cell_type": "code",
   "execution_count": 164,
   "id": "951080a5-7d16-4934-8d0e-78db0c70e7de",
   "metadata": {},
   "outputs": [],
   "source": [
    "graph_nodes = torch.FloatTensor(one_hot_embedding(np.array(rms_type))[:, 1:])\n",
    "graph_edges = torch.LongTensor(triples)\n",
    "# transform convert range [0, 1] to [-1, 1]\n",
    "rooms_mks = transform(torch.FloatTensor(rms_masks))\n",
    "sample = (rooms_mks, graph_nodes, graph_edges)"
   ]
  },
  {
   "cell_type": "code",
   "execution_count": 166,
   "id": "95346c16-81b3-49cf-a0a5-82ed80892f5f",
   "metadata": {},
   "outputs": [],
   "source": [
    "a, b, c, d, e = floorplan_collate_fn([sample])"
   ]
  },
  {
   "cell_type": "code",
   "execution_count": 174,
   "id": "6366add8-1ea7-444e-819c-498473d9f612",
   "metadata": {},
   "outputs": [
    {
     "data": {
      "text/plain": [
       "<matplotlib.image.AxesImage at 0x75df0cfdf910>"
      ]
     },
     "execution_count": 174,
     "metadata": {},
     "output_type": "execute_result"
    },
    {
     "data": {
      "image/png": "[encoded data removed]",
      "text/plain": [
       "<Figure size 640x480 with 1 Axes>"
      ]
     },
     "metadata": {},
     "output_type": "display_data"
    }
   ],
   "source": [
    "plt.imshow(rooms_mks.sum(0))"
   ]
  }
 ],
 "metadata": {
  "kernelspec": {
   "display_name": "Python 3 (ipykernel)",
   "language": "python",
   "name": "python3"
  },
  "language_info": {
   "codemirror_mode": {
    "name": "ipython",
    "version": 3
   },
   "file_extension": ".py",
   "mimetype": "text/x-python",
   "name": "python",
   "nbconvert_exporter": "python",
   "pygments_lexer": "ipython3",
   "version": "3.9.21"
  }
 },
 "nbformat": 4,
 "nbformat_minor": 5
}
