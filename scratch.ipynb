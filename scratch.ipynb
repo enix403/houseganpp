{
 "cells": [
  {
   "cell_type": "code",
   "execution_count": 1,
   "id": "2ad02a19-dcd0-4b86-ae42-6c81bd2013c6",
   "metadata": {},
   "outputs": [],
   "source": [
    "%load_ext autoreload\n",
    "%autoreload 2"
   ]
  },
  {
   "cell_type": "code",
   "execution_count": 53,
   "id": "620ce43d-25fb-4027-bc61-353121ad592c",
   "metadata": {},
   "outputs": [],
   "source": [
    "import os\n",
    "import argparse\n",
    "import numpy as np\n",
    "\n",
    "import torch\n",
    "import torchvision.transforms as transforms\n",
    "from torchvision.utils import save_image\n",
    "import networkx as nx\n",
    "\n",
    "from minimal.arch import Generator\n",
    "\n",
    "from minimal.dataset import (\n",
    "    FloorplanGraphDataset,\n",
    "    floorplan_collate_fn\n",
    ")\n",
    "\n",
    "from minimal.utils import (\n",
    "    init_input,\n",
    "    draw_masks,\n",
    "    draw_graph\n",
    ")"
   ]
  },
  {
   "cell_type": "code",
   "execution_count": 3,
   "id": "2aaac868-53e8-4e7b-8005-a554b5a50e13",
   "metadata": {},
   "outputs": [],
   "source": [
    "PRETRAINED_PATH = \"./checkpoints/pretrained.pth\"\n",
    "DATA_PATH = \"./data/sample_list.txt\"\n",
    "OUT_PATH = \"./dump\"\n",
    "\n",
    "os.makedirs(OUT_PATH, exist_ok=True)"
   ]
  },
  {
   "cell_type": "code",
   "execution_count": 4,
   "id": "cc72e216-5a6a-44f3-8662-0a770931bf9d",
   "metadata": {},
   "outputs": [],
   "source": [
    "model = Generator()\n",
    "model.load_state_dict(torch.load(PRETRAINED_PATH, map_location=torch.device('cpu')), strict=True)\n",
    "model = model.eval()"
   ]
  },
  {
   "cell_type": "code",
   "execution_count": 5,
   "id": "11fc0d40-48f4-4829-acb1-e0a2b540be7c",
   "metadata": {},
   "outputs": [
    {
     "name": "stdout",
     "output_type": "stream",
     "text": [
      "6\n"
     ]
    }
   ],
   "source": [
    "# initialize dataset iterator\n",
    "fp_dataset_test = FloorplanGraphDataset(\n",
    "    DATA_PATH,\n",
    "    transforms.Normalize(mean=[0.5], std=[0.5]),\n",
    "    split='test'\n",
    ")\n",
    "\n",
    "fp_loader = torch.utils.data.DataLoader(\n",
    "    fp_dataset_test, \n",
    "    batch_size=1, \n",
    "    shuffle=False,\n",
    "    collate_fn=floorplan_collate_fn\n",
    ")"
   ]
  },
  {
   "cell_type": "code",
   "execution_count": 6,
   "id": "4f20bffe-a1a7-47c1-94d9-01722f9ca837",
   "metadata": {},
   "outputs": [],
   "source": [
    "# run inference\n",
    "def _infer(graph, model, prev_state=None):\n",
    "    \n",
    "    # configure input to the network\n",
    "    z, given_masks_in, given_nds, given_eds = _init_input(graph, prev_state)\n",
    "    # run inference model\n",
    "    with torch.no_grad():\n",
    "        masks = model(z, given_masks_in, given_nds, given_eds)\n",
    "        masks = masks.detach().cpu().numpy()\n",
    "    return masks"
   ]
  },
  {
   "cell_type": "code",
   "execution_count": 7,
   "id": "3daae240-90b0-48bc-8a13-e82f706aa6fa",
   "metadata": {},
   "outputs": [],
   "source": [
    "i, sample = next(enumerate(fp_loader))"
   ]
  },
  {
   "cell_type": "code",
   "execution_count": 15,
   "id": "a68cc03f-e240-434e-b96c-949e989a8a4e",
   "metadata": {},
   "outputs": [],
   "source": [
    "mks, nds, eds, _, _ = sample"
   ]
  },
  {
   "cell_type": "code",
   "execution_count": 40,
   "id": "31a7d59b-ab06-4a41-9b34-3125f72f09f1",
   "metadata": {},
   "outputs": [],
   "source": [
    "real_nodes = np.where(nds.detach().cpu()==1)[-1]"
   ]
  },
  {
   "cell_type": "code",
   "execution_count": 41,
   "id": "ac17015a-81ee-4318-b468-daba7bb4f2b5",
   "metadata": {},
   "outputs": [],
   "source": [
    "graph = [nds, eds]"
   ]
  },
  {
   "cell_type": "code",
   "execution_count": 42,
   "id": "84e438be-5db6-48bc-a065-f306c9f665e8",
   "metadata": {},
   "outputs": [
    {
     "name": "stderr",
     "output_type": "stream",
     "text": [
      "/home/radium/ser/follows/houseganpp/minimal/utils.py:139: UserWarning: This figure includes Axes that are not compatible with tight_layout, so results might be incorrect.\n",
      "  plt.tight_layout()\n"
     ]
    }
   ],
   "source": [
    "true_graph_obj, graph_im = draw_graph([real_nodes, eds.detach().cpu().numpy()])"
   ]
  },
  {
   "cell_type": "code",
   "execution_count": 57,
   "id": "cedd6eeb-8c03-4d90-a088-f43e4911e609",
   "metadata": {},
   "outputs": [
    {
     "data": {
      "text/plain": [
       "torch.Size([66, 3])"
      ]
     },
     "execution_count": 57,
     "metadata": {},
     "output_type": "execute_result"
    }
   ],
   "source": [
    "eds.shape"
   ]
  }
 ],
 "metadata": {
  "kernelspec": {
   "display_name": "Python 3 (ipykernel)",
   "language": "python",
   "name": "python3"
  },
  "language_info": {
   "codemirror_mode": {
    "name": "ipython",
    "version": 3
   },
   "file_extension": ".py",
   "mimetype": "text/x-python",
   "name": "python",
   "nbconvert_exporter": "python",
   "pygments_lexer": "ipython3",
   "version": "3.9.21"
  }
 },
 "nbformat": 4,
 "nbformat_minor": 5
}
