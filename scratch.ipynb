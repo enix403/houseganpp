{
 "cells": [
  {
   "cell_type": "code",
   "execution_count": 1,
   "id": "c66dc4d2-743b-4e6e-a683-8e7428be5c4d",
   "metadata": {},
   "outputs": [],
   "source": [
    "%load_ext autoreload\n",
    "%autoreload 2"
   ]
  },
  {
   "cell_type": "code",
   "execution_count": 10,
   "id": "9727883f-7d23-49a3-8190-f1ce6f77d4b9",
   "metadata": {},
   "outputs": [],
   "source": [
    "import os\n",
    "import numpy as np\n",
    "import json\n",
    "import cv2\n",
    "\n",
    "import torch\n",
    "import torch.nn.functional as F\n",
    "from torchvision.utils import save_image\n",
    "import networkx as nx\n",
    "from matplotlib import pyplot as plt\n",
    "import matplotlib.patches as patches\n",
    "from PIL import Image, ImageDraw\n",
    "import webcolors\n",
    "\n",
    "from minimal.dataset import FloorplanGraphDataset, reader, build_graph, one_hot_embedding\n",
    "from minimal.utils import draw_graph, ID_COLOR\n",
    "from minimal.gen import generate_plan\n",
    "\n",
    "%matplotlib inline"
   ]
  },
  {
   "cell_type": "code",
   "execution_count": 5,
   "id": "4bd43d81-8538-4fb4-88aa-43b1b3e57040",
   "metadata": {},
   "outputs": [],
   "source": [
    "rms_type, rms_bbs, fp_eds, eds_to_rms = reader(\"data/expr.json\")"
   ]
  },
  {
   "cell_type": "code",
   "execution_count": 39,
   "id": "3360b9f9-2780-463b-b2bc-42f595de33fa",
   "metadata": {},
   "outputs": [],
   "source": [
    "triples, rms_masks = build_graph(rms_type, fp_eds, eds_to_rms)"
   ]
  },
  {
   "cell_type": "code",
   "execution_count": 36,
   "id": "347f144f-acf7-4aaf-9bda-5bb105f413da",
   "metadata": {},
   "outputs": [],
   "source": [
    "def draw_room_from_bbs(bbs):\n",
    "    plt.gca().add_patch(patches.Rectangle(\n",
    "        (bbs[0], bbs[1]),\n",
    "        bbs[2] - bbs[0], bbs[3] - bbs[1],\n",
    "        linewidth=1, edgecolor='c', facecolor='c'\n",
    "    ))\n",
    "    plt.gca().invert_yaxis()"
   ]
  },
  {
   "cell_type": "code",
   "execution_count": 50,
   "id": "0b5a2cb6-ac47-4c9b-bae7-4d22c11e08f1",
   "metadata": {},
   "outputs": [
    {
     "data": {
      "text/plain": [
       "<matplotlib.image.AxesImage at 0x7558485045e0>"
      ]
     },
     "execution_count": 50,
     "metadata": {},
     "output_type": "execute_result"
    },
    {
     "data": {
      "image/png": "[encoded data removed]",
      "text/plain": [
       "<Figure size 400x400 with 1 Axes>"
      ]
     },
     "metadata": {},
     "output_type": "display_data"
    }
   ],
   "source": [
    "plt.figure(figsize=(4,4))\n",
    "\n",
    "# plt.subplot(1,1,1)\n",
    "# draw_room_from_bbs(rms_bbs[0])\n",
    "\n",
    "plt.subplot(1,2,1)\n",
    "plt.imshow(rms_masks[0])"
   ]
  },
  {
   "cell_type": "code",
   "execution_count": 7,
   "id": "38d9087f-7431-48a4-ab79-2938e54dbb66",
   "metadata": {},
   "outputs": [],
   "source": [
    "nds = one_hot_embedding(np.array([5,2]))[:, 1:]"
   ]
  },
  {
   "cell_type": "code",
   "execution_count": 9,
   "id": "2036964e-78e4-4487-951f-f134c48027d0",
   "metadata": {},
   "outputs": [
    {
     "data": {
      "text/plain": [
       "tensor([[0., 0., 0., 0., 1., 0., 0., 0., 0., 0., 0., 0., 0., 0., 0., 0., 0., 0.],\n",
       "        [0., 1., 0., 0., 0., 0., 0., 0., 0., 0., 0., 0., 0., 0., 0., 0., 0., 0.]])"
      ]
     },
     "execution_count": 9,
     "metadata": {},
     "output_type": "execute_result"
    }
   ],
   "source": [
    "nds"
   ]
  },
  {
   "cell_type": "code",
   "execution_count": 20,
   "id": "f0bedf9c-8789-42b4-97f7-144dd3c1e06d",
   "metadata": {},
   "outputs": [
    {
     "data": {
      "text/plain": [
       "tensor(True)"
      ]
     },
     "execution_count": 20,
     "metadata": {},
     "output_type": "execute_result"
    }
   ],
   "source": [
    " == nds"
   ]
  }
 ],
 "metadata": {
  "kernelspec": {
   "display_name": "Python 3 (ipykernel)",
   "language": "python",
   "name": "python3"
  },
  "language_info": {
   "codemirror_mode": {
    "name": "ipython",
    "version": 3
   },
   "file_extension": ".py",
   "mimetype": "text/x-python",
   "name": "python",
   "nbconvert_exporter": "python",
   "pygments_lexer": "ipython3",
   "version": "3.9.21"
  }
 },
 "nbformat": 4,
 "nbformat_minor": 5
}
