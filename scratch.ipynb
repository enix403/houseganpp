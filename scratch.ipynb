{
 "cells": [
  {
   "cell_type": "code",
   "execution_count": 1,
   "id": "c66dc4d2-743b-4e6e-a683-8e7428be5c4d",
   "metadata": {},
   "outputs": [],
   "source": [
    "%load_ext autoreload\n",
    "%autoreload 2"
   ]
  },
  {
   "cell_type": "code",
   "execution_count": 193,
   "id": "9727883f-7d23-49a3-8190-f1ce6f77d4b9",
   "metadata": {},
   "outputs": [],
   "source": [
    "import os\n",
    "import numpy as np\n",
    "import json\n",
    "\n",
    "import torch\n",
    "import torch.nn.functional as F\n",
    "from matplotlib import pyplot as plt\n",
    "\n",
    "import networkx as nx\n",
    "\n",
    "from minimal.imaging import draw_plan\n",
    "from minimal.layout import LayoutGraph, NodeType\n",
    "from minimal import sample_graphs\n",
    "from minimal.gen import generate_plan\n",
    "\n",
    "%matplotlib inline"
   ]
  },
  {
   "cell_type": "code",
   "execution_count": 89,
   "id": "b68e076d-a3fe-4dc5-9143-b21f672af0ae",
   "metadata": {},
   "outputs": [],
   "source": [
    "g = sample_graphs.two()"
   ]
  },
  {
   "cell_type": "code",
   "execution_count": 194,
   "id": "d8517b6d-1eea-41fb-bd78-817725db007e",
   "metadata": {},
   "outputs": [],
   "source": [
    "plan_masks = generate_plan(g, num_iters=25)"
   ]
  },
  {
   "cell_type": "code",
   "execution_count": 197,
   "id": "1e0950ee-e093-4641-9062-adfb04ce9d1f",
   "metadata": {},
   "outputs": [
    {
     "data": {
      "image/png": "[encoded data removed]",
      "text/plain": [
       "<PIL.Image.Image image mode=RGB size=256x256>"
      ]
     },
     "metadata": {},
     "output_type": "display_data"
    },
    {
     "data": {
      "text/plain": [
       "<PlanMasks 125310984312240>"
      ]
     },
     "execution_count": 197,
     "metadata": {},
     "output_type": "execute_result"
    }
   ],
   "source": [
    "plan_masks"
   ]
  },
  {
   "cell_type": "code",
   "execution_count": null,
   "id": "ae8c0f01-5d47-42e0-a410-a39f3b317d7b",
   "metadata": {},
   "outputs": [],
   "source": [
    "plan_masks\n"
   ]
  }
 ],
 "metadata": {
  "kernelspec": {
   "display_name": "Python 3 (ipykernel)",
   "language": "python",
   "name": "python3"
  },
  "language_info": {
   "codemirror_mode": {
    "name": "ipython",
    "version": 3
   },
   "file_extension": ".py",
   "mimetype": "text/x-python",
   "name": "python",
   "nbconvert_exporter": "python",
   "pygments_lexer": "ipython3",
   "version": "3.9.21"
  }
 },
 "nbformat": 4,
 "nbformat_minor": 5
}
