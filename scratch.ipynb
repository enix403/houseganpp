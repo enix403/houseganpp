{
 "cells": [
  {
   "cell_type": "code",
   "execution_count": 1,
   "id": "2ad02a19-dcd0-4b86-ae42-6c81bd2013c6",
   "metadata": {},
   "outputs": [],
   "source": [
    "%load_ext autoreload\n",
    "%autoreload 2"
   ]
  },
  {
   "cell_type": "code",
   "execution_count": 20,
   "id": "620ce43d-25fb-4027-bc61-353121ad592c",
   "metadata": {},
   "outputs": [],
   "source": [
    "import os\n",
    "import argparse\n",
    "import numpy as np\n",
    "import json\n",
    "\n",
    "import torch\n",
    "import torchvision.transforms as transforms\n",
    "from torchvision.utils import save_image\n",
    "import networkx as nx\n",
    "from matplotlib import pyplot as plt\n",
    "\n",
    "from minimal.arch import Generator\n",
    "\n",
    "from minimal.dataset import (\n",
    "    FloorplanGraphDataset,\n",
    "    floorplan_collate_fn,\n",
    "    reader\n",
    ")\n",
    "\n",
    "from minimal.utils import (\n",
    "    init_input,\n",
    "    draw_masks,\n",
    "    draw_graph\n",
    ")\n",
    "\n",
    "%matplotlib inline"
   ]
  },
  {
   "cell_type": "code",
   "execution_count": 3,
   "id": "5d60fd5c-afec-4d49-b7be-948708b7f59c",
   "metadata": {},
   "outputs": [],
   "source": [
    "DATA_PATH = \"./data/sample_list.txt\""
   ]
  },
  {
   "cell_type": "code",
   "execution_count": 4,
   "id": "34f223d3-d2f9-4b19-9e9c-b40acf73e398",
   "metadata": {},
   "outputs": [],
   "source": [
    "data_path = DATA_PATH\n",
    "transform = transforms.Normalize(mean=[0.5], std=[0.5])\n",
    "target_set = 8\n",
    "split = \"test\""
   ]
  },
  {
   "cell_type": "code",
   "execution_count": 5,
   "id": "31cf113c-c462-4e58-b8a6-7cb4efd1972d",
   "metadata": {},
   "outputs": [],
   "source": [
    "subgraphs = []"
   ]
  },
  {
   "cell_type": "code",
   "execution_count": 6,
   "id": "4886f121-267d-48df-8f56-d0e690427350",
   "metadata": {},
   "outputs": [
    {
     "data": {
      "text/plain": [
       "['data/json/45012.json',\n",
       " 'data/json/45161.json',\n",
       " 'data/json/36233.json',\n",
       " 'data/json/19307.json',\n",
       " 'data/json/7513.json',\n",
       " 'data/json/18477.json']"
      ]
     },
     "execution_count": 6,
     "metadata": {},
     "output_type": "execute_result"
    }
   ],
   "source": [
    "with open(data_path, \"r\") as f1:\n",
    "    lines = f1.readlines()\n",
    "    lines = list(map(lambda x: x.strip(), lines))\n",
    "\n",
    "lines"
   ]
  },
  {
   "cell_type": "code",
   "execution_count": 7,
   "id": "b2415d7e-614a-43e1-81ff-b013b0cdbd4e",
   "metadata": {},
   "outputs": [],
   "source": [
    "# for line in lines:\n",
    "#     rms_type, fp_eds, rms_bbs, eds_to_rms, eds_to_rms_tmp = reader(line)\n",
    "    \n",
    "#     subgraphs.append([\n",
    "#         rms_type,\n",
    "#         rms_bbs,\n",
    "#         fp_eds,\n",
    "#         eds_to_rms,\n",
    "#         eds_to_rms_tmp,\n",
    "#     ])"
   ]
  },
  {
   "cell_type": "code",
   "execution_count": 33,
   "id": "212a612f-fa24-4aa5-8487-3240ae3408da",
   "metadata": {},
   "outputs": [],
   "source": [
    "# rms_type, fp_eds, rms_bbs, eds_to_rms, eds_to_rms_tmp = reader(\"data/expr.json\")\n",
    "\n",
    "# rms_type: [5, 3, 3, 4, 2, 1, 17, 17, 17, 17, 17, 15]\n",
    "# fp_eds: (54,4)\n",
    "# rms_bbs: (12, 4): same shape as \"boxes\" from file, but contents\n",
    "#                   modified/adjusted a little\n",
    "# eds_to_rms: list[list[int]] \"ed_rm\" from file\n",
    "# eds_to_rms_tmp: eds_to_rms but the inner list truncated to length 1\n",
    "#                 i.e eds_to_rms_tmp[i][0] == eds_to_rms[i][0] for every i\n",
    "\n",
    "# print(eds_to_rms_tmp)"
   ]
  },
  {
   "cell_type": "code",
   "execution_count": 27,
   "id": "ee202e97-4c6a-44f7-ada8-5b8d4cb82a2e",
   "metadata": {},
   "outputs": [],
   "source": [
    "with open(\"data/json/45012.json\") as f:\n",
    "    info = json.load(f)"
   ]
  },
  {
   "cell_type": "code",
   "execution_count": 41,
   "id": "98e58d30-eba9-4889-a5ad-7941d4d58804",
   "metadata": {},
   "outputs": [
    {
     "name": "stdout",
     "output_type": "stream",
     "text": [
      "(12, 4)\n",
      "(54, 6)\n"
     ]
    }
   ],
   "source": [
    "# read from file\n",
    "rms_type = info[\"room_type\"]\n",
    "rms_bbs = np.array(info[\"boxes\"])\n",
    "fp_eds = np.array(info[\"edges\"])\n",
    "eds_to_rms = info[\"ed_rm\"]\n",
    "\n",
    "print(rms_bbs.shape)\n",
    "print(fp_eds.shape)"
   ]
  },
  {
   "cell_type": "code",
   "execution_count": 39,
   "id": "6432dc68-9bfd-44c4-9d41-024d11cecc9b",
   "metadata": {},
   "outputs": [
    {
     "name": "stdout",
     "output_type": "stream",
     "text": [
      "s_r = 7\n"
     ]
    }
   ],
   "source": [
    "# Count rooms that are not equal to 17 (interior_door)\n",
    "s_r = 0\n",
    "for rmk in range(len(rms_type)):\n",
    "    if rms_type[rmk] != 17:\n",
    "        s_r = s_r + 1\n",
    "\n",
    "print(f\"{s_r = }\")"
   ]
  },
  {
   "cell_type": "code",
   "execution_count": 43,
   "id": "a55b3911-f416-46e2-bd7d-91ff64b1a26a",
   "metadata": {},
   "outputs": [],
   "source": [
    "# convert bounding boxes from range [0,256] to range [0,1]\n",
    "# rms_bbs = rms_bbs / 256.0\n",
    "# fp_eds = fp_eds / 256.0"
   ]
  },
  {
   "cell_type": "code",
   "execution_count": 45,
   "id": "d017d5b6-598c-4225-bcc1-45d866e3e5bd",
   "metadata": {},
   "outputs": [
    {
     "name": "stdout",
     "output_type": "stream",
     "text": [
      "(54, 4)\n"
     ]
    }
   ],
   "source": [
    "# discard last 2 number of fp_eds\n",
    "# new shape: (*, 4)\n",
    "fp_eds = fp_eds[:, :4]\n",
    "print(fp_eds.shape)"
   ]
  },
  {
   "cell_type": "code",
   "execution_count": 57,
   "id": "67c37a7c-d6ca-4746-831a-8eb00e0c056c",
   "metadata": {},
   "outputs": [],
   "source": [
    "# (R, 2)\n",
    "rooms_top_lefts = rms_bbs[:, :2]\n",
    "rooms_btm_rights = rms_bbs[:, 2:]\n",
    "\n",
    "# top left of the bounding box of the masks\n",
    "global_tl = np.min(rooms_top_lefts, axis=0)\n",
    "# bottom right of the bounding box of the masks\n",
    "global_br = np.max(rooms_btm_rights, axis=0)"
   ]
  },
  {
   "cell_type": "code",
   "execution_count": 62,
   "id": "42267509-597e-461c-976f-0767f142d2dd",
   "metadata": {},
   "outputs": [],
   "source": [
    "# Make the center of the overall bounding box (0.5, 0.5)\n",
    "# i.e centralize the floor plan \n",
    "shift = (global_tl + global_br) / 2.0 - 0.5\n",
    "# rms_bbs[:, :2] -= shift\n",
    "# rms_bbs[:, 2:] -= shift\n",
    "# fp_eds[:, :2] -= shift\n",
    "# fp_eds[:, 2:] -= shift"
   ]
  }
 ],
 "metadata": {
  "kernelspec": {
   "display_name": "Python 3 (ipykernel)",
   "language": "python",
   "name": "python3"
  },
  "language_info": {
   "codemirror_mode": {
    "name": "ipython",
    "version": 3
   },
   "file_extension": ".py",
   "mimetype": "text/x-python",
   "name": "python",
   "nbconvert_exporter": "python",
   "pygments_lexer": "ipython3",
   "version": "3.9.21"
  }
 },
 "nbformat": 4,
 "nbformat_minor": 5
}
