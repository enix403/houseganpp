{
 "cells": [
  {
   "cell_type": "code",
   "execution_count": 1,
   "id": "a6e7232a-b94b-4bb7-b046-2ae9df02b99c",
   "metadata": {},
   "outputs": [],
   "source": [
    "%load_ext autoreload\n",
    "%autoreload 2"
   ]
  },
  {
   "cell_type": "code",
   "execution_count": 2,
   "id": "bd22a129-7d7d-4c98-b93f-f3e7e6212757",
   "metadata": {},
   "outputs": [],
   "source": [
    "import os\n",
    "import numpy as np\n",
    "import json\n",
    "\n",
    "import torch\n",
    "from torchvision.utils import save_image\n",
    "import networkx as nx\n",
    "from matplotlib import pyplot as plt\n",
    "\n",
    "from minimal.arch import Generator\n",
    "from minimal.dataset import FloorplanGraphDataset\n",
    "from minimal.utils import (\n",
    "    init_input,\n",
    "    draw_masks,\n",
    "    draw_graph\n",
    ")\n",
    "\n",
    "%matplotlib inline"
   ]
  },
  {
   "cell_type": "code",
   "execution_count": 3,
   "id": "f7749599-3f98-4b54-9767-46ddfa5b5daa",
   "metadata": {},
   "outputs": [],
   "source": [
    "PRETRAINED_PATH = \"./checkpoints/pretrained.pth\"\n",
    "DATA_PATH = \"./data/sample_list.txt\"\n",
    "OUT_PATH = \"./dump\""
   ]
  },
  {
   "cell_type": "code",
   "execution_count": 4,
   "id": "7723d106-4727-45f5-938f-dd4a329c861b",
   "metadata": {},
   "outputs": [],
   "source": [
    "fp_dataset = FloorplanGraphDataset(DATA_PATH)"
   ]
  },
  {
   "cell_type": "code",
   "execution_count": 5,
   "id": "57f2c6b0-b076-49d3-8937-104e3f17a0fd",
   "metadata": {},
   "outputs": [],
   "source": [
    "model = Generator()\n",
    "model.load_state_dict(\n",
    "    torch.load(PRETRAINED_PATH, map_location=torch.device(\"cpu\")), strict=True\n",
    ")\n",
    "model = model.eval()"
   ]
  },
  {
   "cell_type": "code",
   "execution_count": 6,
   "id": "9b30407e-07a6-4fe6-bf7c-8e8b13f1b444",
   "metadata": {},
   "outputs": [],
   "source": [
    "sample = next(iter(fp_dataset))"
   ]
  },
  {
   "cell_type": "code",
   "execution_count": 8,
   "id": "84cd4718-1534-4549-bf0c-62a1fbf42f0f",
   "metadata": {},
   "outputs": [],
   "source": [
    "@torch.no_grad()\n",
    "def _infer(nds, eds, prev_state=None):\n",
    "    z, masks_in = init_input(nds, prev_state)\n",
    "    masks = model(z, masks_in, nds, eds)\n",
    "\n",
    "    return masks.detach().numpy()"
   ]
  },
  {
   "cell_type": "code",
   "execution_count": 9,
   "id": "5266d4fe-4452-483a-a347-5ae53cf26c3f",
   "metadata": {},
   "outputs": [],
   "source": [
    "NUM_ITERS = 10\n",
    "\n",
    "_, nds, eds = sample\n",
    "graph = [nds, eds]\n",
    "\n",
    "rms_type_z = np.where(nds==1)[1]\n",
    "_types = sorted(list(set(rms_type_z)))\n",
    "selected_types = [_types[:k+1] for k in range(NUM_ITERS)]"
   ]
  },
  {
   "cell_type": "code",
   "execution_count": 15,
   "id": "eba8331b-52f1-481c-8790-1cd3a15738db",
   "metadata": {},
   "outputs": [],
   "source": [
    "state = { \"masks\": None, \"fixed_nodes\": [] }\n",
    "\n",
    "# (R, 64, 64): mask per room\n",
    "masks = _infer(nds, eds, state)"
   ]
  },
  {
   "cell_type": "code",
   "execution_count": 16,
   "id": "011ce303-70e8-4f37-a6f4-6c0e8c9c714f",
   "metadata": {},
   "outputs": [
    {
     "data": {
      "text/plain": [
       "<matplotlib.image.AxesImage at 0x70dcfff05100>"
      ]
     },
     "execution_count": 16,
     "metadata": {},
     "output_type": "execute_result"
    },
    {
     "data": {
      "image/png": "[encoded data removed]",
      "text/plain": [
       "<Figure size 640x480 with 1 Axes>"
      ]
     },
     "metadata": {},
     "output_type": "display_data"
    }
   ],
   "source": [
    "plt.imshow(masks[-1])"
   ]
  },
  {
   "cell_type": "code",
   "execution_count": 19,
   "id": "c1172889-c60c-447c-be81-5a3f1bd774f9",
   "metadata": {},
   "outputs": [
    {
     "data": {
      "text/plain": [
       "False"
      ]
     },
     "execution_count": 19,
     "metadata": {},
     "output_type": "execute_result"
    }
   ],
   "source": [
    "2 not in rms_type_z"
   ]
  },
  {
   "cell_type": "code",
   "execution_count": 21,
   "id": "e6a2db49-3092-498d-a5bd-851b70e89088",
   "metadata": {},
   "outputs": [
    {
     "data": {
      "text/plain": [
       "torch.int64"
      ]
     },
     "execution_count": 21,
     "metadata": {},
     "output_type": "execute_result"
    }
   ],
   "source": [
    "torch.long"
   ]
  },
  {
   "cell_type": "code",
   "execution_count": 23,
   "id": "3db9c88a-657a-402b-8d35-e8e3d8467bb2",
   "metadata": {},
   "outputs": [],
   "source": [
    "a = torch.randn(12, 64, 60)\n",
    "b = torch.randn(12, 64, 60)"
   ]
  },
  {
   "cell_type": "code",
   "execution_count": 25,
   "id": "24022fcf-ba32-4520-9970-e9a600ae6f8d",
   "metadata": {},
   "outputs": [
    {
     "data": {
      "text/plain": [
       "torch.Size([12, 2, 64, 60])"
      ]
     },
     "execution_count": 25,
     "metadata": {},
     "output_type": "execute_result"
    }
   ],
   "source": [
    "torch.stack((a, b), dim=1).shape"
   ]
  }
 ],
 "metadata": {
  "kernelspec": {
   "display_name": "Python 3 (ipykernel)",
   "language": "python",
   "name": "python3"
  },
  "language_info": {
   "codemirror_mode": {
    "name": "ipython",
    "version": 3
   },
   "file_extension": ".py",
   "mimetype": "text/x-python",
   "name": "python",
   "nbconvert_exporter": "python",
   "pygments_lexer": "ipython3",
   "version": "3.9.21"
  }
 },
 "nbformat": 4,
 "nbformat_minor": 5
}
