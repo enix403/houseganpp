{
 "cells": [
  {
   "cell_type": "code",
   "execution_count": 1,
   "id": "2ad02a19-dcd0-4b86-ae42-6c81bd2013c6",
   "metadata": {},
   "outputs": [],
   "source": [
    "%load_ext autoreload\n",
    "%autoreload 2"
   ]
  },
  {
   "cell_type": "code",
   "execution_count": 69,
   "id": "620ce43d-25fb-4027-bc61-353121ad592c",
   "metadata": {},
   "outputs": [],
   "source": [
    "import os\n",
    "import argparse\n",
    "import numpy as np\n",
    "import json\n",
    "\n",
    "import torch\n",
    "import torchvision.transforms as transforms\n",
    "from torchvision.utils import save_image\n",
    "import networkx as nx\n",
    "from PIL import Image, ImageDraw\n",
    "from matplotlib import pyplot as plt\n",
    "\n",
    "from minimal.arch import Generator\n",
    "\n",
    "from minimal.dataset import (\n",
    "    FloorplanGraphDataset,\n",
    "    floorplan_collate_fn,\n",
    "    reader\n",
    ")\n",
    "\n",
    "from minimal.utils import (\n",
    "    init_input,\n",
    "    draw_masks,\n",
    "    draw_graph\n",
    ")\n",
    "\n",
    "%matplotlib inline"
   ]
  },
  {
   "cell_type": "code",
   "execution_count": 3,
   "id": "5d60fd5c-afec-4d49-b7be-948708b7f59c",
   "metadata": {},
   "outputs": [],
   "source": [
    "DATA_PATH = \"./data/sample_list.txt\""
   ]
  },
  {
   "cell_type": "code",
   "execution_count": 4,
   "id": "34f223d3-d2f9-4b19-9e9c-b40acf73e398",
   "metadata": {},
   "outputs": [],
   "source": [
    "data_path = DATA_PATH\n",
    "transform = transforms.Normalize(mean=[0.5], std=[0.5])\n",
    "target_set = 8\n",
    "split = \"test\""
   ]
  },
  {
   "cell_type": "code",
   "execution_count": 5,
   "id": "31cf113c-c462-4e58-b8a6-7cb4efd1972d",
   "metadata": {},
   "outputs": [],
   "source": [
    "subgraphs = []"
   ]
  },
  {
   "cell_type": "code",
   "execution_count": 6,
   "id": "4886f121-267d-48df-8f56-d0e690427350",
   "metadata": {},
   "outputs": [
    {
     "data": {
      "text/plain": [
       "['data/json/45012.json',\n",
       " 'data/json/45161.json',\n",
       " 'data/json/36233.json',\n",
       " 'data/json/19307.json',\n",
       " 'data/json/7513.json',\n",
       " 'data/json/18477.json']"
      ]
     },
     "execution_count": 6,
     "metadata": {},
     "output_type": "execute_result"
    }
   ],
   "source": [
    "with open(data_path, \"r\") as f1:\n",
    "    lines = f1.readlines()\n",
    "    lines = list(map(lambda x: x.strip(), lines))\n",
    "\n",
    "lines"
   ]
  },
  {
   "cell_type": "code",
   "execution_count": 7,
   "id": "b2415d7e-614a-43e1-81ff-b013b0cdbd4e",
   "metadata": {},
   "outputs": [],
   "source": [
    "# for line in lines:\n",
    "#     rms_type, fp_eds, rms_bbs, eds_to_rms, eds_to_rms_tmp = reader(line)\n",
    "    \n",
    "#     subgraphs.append([\n",
    "#         rms_type,\n",
    "#         rms_bbs,\n",
    "#         fp_eds,\n",
    "#         eds_to_rms,\n",
    "#         eds_to_rms_tmp,\n",
    "#     ])"
   ]
  },
  {
   "cell_type": "code",
   "execution_count": 33,
   "id": "212a612f-fa24-4aa5-8487-3240ae3408da",
   "metadata": {},
   "outputs": [],
   "source": [
    "# rms_type, fp_eds, rms_bbs, eds_to_rms, eds_to_rms_tmp = reader(\"data/expr.json\")\n",
    "\n",
    "# rms_type: \"room_type\" from file\n",
    "# rms_bbs: (12, 4): \"boxes\" from file, but centralized\n",
    "# fp_eds: (54, 4): \"edges\" from file, but centralized\n",
    "# eds_to_rms: list[list[int]] \"ed_rm\" from file\n",
    "# eds_to_rms_tmp: eds_to_rms but the inner list truncated to length 1\n",
    "#                 i.e eds_to_rms_tmp[i][0] == eds_to_rms[i][0] for every i\n",
    "\n",
    "# print(eds_to_rms_tmp)"
   ]
  },
  {
   "cell_type": "code",
   "execution_count": 6,
   "id": "ee202e97-4c6a-44f7-ada8-5b8d4cb82a2e",
   "metadata": {},
   "outputs": [],
   "source": [
    "with open(\"data/expr.json\") as f:\n",
    "    info = json.load(f)"
   ]
  },
  {
   "cell_type": "code",
   "execution_count": 8,
   "id": "98e58d30-eba9-4889-a5ad-7941d4d58804",
   "metadata": {},
   "outputs": [],
   "source": [
    "# read from file\n",
    "rms_type = info[\"room_type\"]\n",
    "rms_bbs_j = np.array(info[\"boxes\"])\n",
    "fp_eds_j = np.array(info[\"edges\"])[:, :4]\n",
    "eds_to_rms = info[\"ed_rm\"]"
   ]
  },
  {
   "cell_type": "code",
   "execution_count": 70,
   "id": "6432dc68-9bfd-44c4-9d41-024d11cecc9b",
   "metadata": {},
   "outputs": [],
   "source": [
    "# # Count rooms that are not equal to 17 (interior_door)\n",
    "# s_r = 0\n",
    "# for rmk in range(len(rms_type)):\n",
    "#     if rms_type[rmk] != 17:\n",
    "#         s_r = s_r + 1\n",
    "\n",
    "# print(f\"{s_r = }\")"
   ]
  },
  {
   "cell_type": "code",
   "execution_count": 9,
   "id": "a55b3911-f416-46e2-bd7d-91ff64b1a26a",
   "metadata": {},
   "outputs": [],
   "source": [
    "# convert bounding boxes from range [0,256] to range [0,1]\n",
    "rms_bbs_01 = rms_bbs_j / 256.0\n",
    "fp_eds_01 = fp_eds_j / 256.0"
   ]
  },
  {
   "cell_type": "code",
   "execution_count": 11,
   "id": "d017d5b6-598c-4225-bcc1-45d866e3e5bd",
   "metadata": {},
   "outputs": [
    {
     "name": "stdout",
     "output_type": "stream",
     "text": [
      "(54, 4)\n"
     ]
    }
   ],
   "source": [
    "# discard last 2 number of fp_eds\n",
    "# new shape: (*, 4)\n",
    "print(fp_eds_01.shape)"
   ]
  },
  {
   "cell_type": "code",
   "execution_count": 12,
   "id": "67c37a7c-d6ca-4746-831a-8eb00e0c056c",
   "metadata": {},
   "outputs": [],
   "source": [
    "# (R, 2)\n",
    "rooms_top_lefts = rms_bbs_01[:, :2]\n",
    "rooms_btm_rights = rms_bbs_01[:, 2:]\n",
    "\n",
    "# top left of the bounding box of the masks\n",
    "global_tl = np.min(rooms_top_lefts, axis=0)\n",
    "# bottom right of the bounding box of the masks\n",
    "global_br = np.max(rooms_btm_rights, axis=0)"
   ]
  },
  {
   "cell_type": "code",
   "execution_count": 17,
   "id": "42267509-597e-461c-976f-0767f142d2dd",
   "metadata": {},
   "outputs": [],
   "source": [
    "# Make the center of the overall bounding box (0.5, 0.5)\n",
    "# i.e centralize the floor plan \n",
    "shift = (global_tl + global_br) / 2.0 - 0.5\n",
    "rms_bbs = rms_bbs_01[:, :2] - shift\n",
    "rms_bbs = rms_bbs_01[:, 2:] - shift\n",
    "fp_eds = fp_eds_01[:, :2] - shift\n",
    "fp_eds = fp_eds_01[:, 2:] - shift"
   ]
  },
  {
   "cell_type": "code",
   "execution_count": 65,
   "id": "d713a4fd-eedf-4daa-b431-2a8a1c21c767",
   "metadata": {},
   "outputs": [],
   "source": [
    "triples = []\n",
    "\n",
    "nodes = rms_type\n",
    "for k in range(len(nodes)):\n",
    "    for l in range(k + 1, len(nodes)):\n",
    "        is_adjacent = False\n",
    "        for edge in eds_to_rms:\n",
    "            if (l in edge) and (k in edge):\n",
    "                is_adjacent = True\n",
    "                break\n",
    "\n",
    "        triples.append([k, 1 if is_adjacent else -1, l])"
   ]
  },
  {
   "cell_type": "code",
   "execution_count": 67,
   "id": "f658fbb0-ff8b-4c2d-b9d5-f62cd4835b98",
   "metadata": {},
   "outputs": [],
   "source": [
    "rms_masks = []\n",
    "im_size = 256\n",
    "out_size=64\n",
    "fp_mk = np.zeros((out_size, out_size))"
   ]
  },
  {
   "cell_type": "code",
   "execution_count": 70,
   "id": "f4e3640b-5b2e-48b4-96a7-d345a4085ebb",
   "metadata": {},
   "outputs": [],
   "source": [
    "k = 0\n",
    "eds = [i for i, inner in enumerate(eds_to_rms) if inner[0] == k]\n",
    "\n",
    "rm_im = Image.new(\"L\", (im_size, im_size))\n",
    "dr = ImageDraw.Draw(rm_im)"
   ]
  },
  {
   "cell_type": "code",
   "execution_count": 79,
   "id": "39af393f-31c1-4286-842a-47f200a5e8c2",
   "metadata": {},
   "outputs": [],
   "source": [
    "# shape (len(eds), 4)\n",
    "param0 = fp_eds[eds]\n",
    "# poly = self.make_sequence(np.array([fp_eds[l][:4] for l in eds]))[\n",
    "#     0\n",
    "# ]\n",
    "# poly = [(im_size * x, im_size * y) for x, y in poly]\n",
    "# if len(poly) >= 2:\n",
    "#     dr.polygon(poly, fill=\"white\")\n",
    "# else:\n",
    "#     print(\"Empty room\")"
   ]
  }
 ],
 "metadata": {
  "kernelspec": {
   "display_name": "Python 3 (ipykernel)",
   "language": "python",
   "name": "python3"
  },
  "language_info": {
   "codemirror_mode": {
    "name": "ipython",
    "version": 3
   },
   "file_extension": ".py",
   "mimetype": "text/x-python",
   "name": "python",
   "nbconvert_exporter": "python",
   "pygments_lexer": "ipython3",
   "version": "3.9.21"
  }
 },
 "nbformat": 4,
 "nbformat_minor": 5
}
