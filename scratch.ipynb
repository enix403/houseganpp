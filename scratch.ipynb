{
 "cells": [
  {
   "cell_type": "code",
   "execution_count": 1,
   "id": "a6e7232a-b94b-4bb7-b046-2ae9df02b99c",
   "metadata": {},
   "outputs": [],
   "source": [
    "%load_ext autoreload\n",
    "%autoreload 2"
   ]
  },
  {
   "cell_type": "code",
   "execution_count": 47,
   "id": "bd22a129-7d7d-4c98-b93f-f3e7e6212757",
   "metadata": {},
   "outputs": [],
   "source": [
    "import os\n",
    "import numpy as np\n",
    "import json\n",
    "import cv2\n",
    "\n",
    "import torch\n",
    "from torchvision.utils import save_image\n",
    "import networkx as nx\n",
    "from matplotlib import pyplot as plt\n",
    "from PIL import Image, ImageDraw\n",
    "import webcolors\n",
    "\n",
    "from minimal.dataset import FloorplanGraphDataset\n",
    "from minimal.utils import draw_masks, draw_graph, ID_COLOR\n",
    "from minimal.gen import generate_plan\n",
    "\n",
    "%matplotlib inline"
   ]
  },
  {
   "cell_type": "code",
   "execution_count": 4,
   "id": "9afcb610-5e13-4167-8cc3-373b984f8006",
   "metadata": {},
   "outputs": [],
   "source": [
    "DATA_PATH = \"./data/sample_list.txt\"\n",
    "OUT_PATH = \"./dump\""
   ]
  },
  {
   "cell_type": "code",
   "execution_count": 5,
   "id": "c1e152ce-650c-4b8c-9dfa-8172bda36f3f",
   "metadata": {},
   "outputs": [],
   "source": [
    "fp_dataset = FloorplanGraphDataset(DATA_PATH)"
   ]
  },
  {
   "cell_type": "code",
   "execution_count": 6,
   "id": "08121529-21b6-45f0-8e51-b01c4670940f",
   "metadata": {},
   "outputs": [],
   "source": [
    "sample = next(iter(fp_dataset))\n",
    "_, nds, eds = sample"
   ]
  },
  {
   "cell_type": "code",
   "execution_count": 7,
   "id": "eaf95c6a-c308-488f-b0c2-dde78fa41dc7",
   "metadata": {},
   "outputs": [],
   "source": [
    "masks = generate_plan(nds, eds)"
   ]
  },
  {
   "cell_type": "code",
   "execution_count": 55,
   "id": "0abe43b3-40ef-4172-8e8d-d245c47f1ce2",
   "metadata": {},
   "outputs": [
    {
     "data": {
      "image/png": "[encoded data removed]",
      "text/plain": [
       "<PIL.Image.Image image mode=RGBA size=256x256>"
      ]
     },
     "execution_count": 55,
     "metadata": {},
     "output_type": "execute_result"
    }
   ],
   "source": [
    "im_size = 256\n",
    "real_nodes = np.where(nds == 1)[1]\n",
    "room_imgs = masks.copy()\n",
    "\n",
    "bg_img = Image.new(\n",
    "    \"RGBA\", (im_size, im_size), (255, 255, 255, 255)\n",
    ")  # Semitransparent background.\n",
    "\n",
    "for m, nd in zip(room_imgs, real_nodes):\n",
    "\n",
    "    # resize map\n",
    "    m[m > 0] = 255\n",
    "    m[m < 0] = 0\n",
    "    m_lg = cv2.resize(m, (im_size, im_size), interpolation=cv2.INTER_AREA)\n",
    "\n",
    "    # pick color\n",
    "    color = ID_COLOR[nd + 1]\n",
    "    r, g, b = webcolors.hex_to_rgb(color)\n",
    "\n",
    "    # set drawer\n",
    "    dr_bkg = ImageDraw.Draw(bg_img)\n",
    "\n",
    "    # draw region\n",
    "    m_pil = Image.fromarray(m_lg)\n",
    "    dr_bkg.bitmap((0, 0), m_pil.convert(\"L\"), fill=(r, g, b, 256))\n",
    "\n",
    "    # draw contour\n",
    "    # m_cv = m_lg[:, :, np.newaxis].astype(\"uint8\")\n",
    "    # ret, thresh = cv2.threshold(m_cv, 127, 255, 0)\n",
    "    # contours, _ = cv2.findContours(thresh, cv2.RETR_TREE, cv2.CHAIN_APPROX_SIMPLE)\n",
    "    # contours = [c for c in contours if len(contours) > 0]\n",
    "    # cnt = np.zeros((256, 256, 3)).astype(\"uint8\")\n",
    "    # cv2.drawContours(cnt, contours, -1, (255, 255, 255, 255), 1)\n",
    "    # cnt = Image.fromarray(cnt)\n",
    "    # dr_bkg.bitmap((0, 0), cnt.convert(\"L\"), fill=(0, 0, 0, 255))\n",
    "\n",
    "bg_img"
   ]
  }
 ],
 "metadata": {
  "kernelspec": {
   "display_name": "Python 3 (ipykernel)",
   "language": "python",
   "name": "python3"
  },
  "language_info": {
   "codemirror_mode": {
    "name": "ipython",
    "version": 3
   },
   "file_extension": ".py",
   "mimetype": "text/x-python",
   "name": "python",
   "nbconvert_exporter": "python",
   "pygments_lexer": "ipython3",
   "version": "3.9.21"
  }
 },
 "nbformat": 4,
 "nbformat_minor": 5
}
