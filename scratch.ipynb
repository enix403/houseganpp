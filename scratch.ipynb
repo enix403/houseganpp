{
 "cells": [
  {
   "cell_type": "code",
   "execution_count": 1,
   "id": "2ad02a19-dcd0-4b86-ae42-6c81bd2013c6",
   "metadata": {},
   "outputs": [],
   "source": [
    "%load_ext autoreload\n",
    "%autoreload 2"
   ]
  },
  {
   "cell_type": "code",
   "execution_count": 25,
   "id": "620ce43d-25fb-4027-bc61-353121ad592c",
   "metadata": {},
   "outputs": [],
   "source": [
    "import os\n",
    "import argparse\n",
    "import numpy as np\n",
    "\n",
    "import torch\n",
    "import torchvision.transforms as transforms\n",
    "from torchvision.utils import save_image\n",
    "import networkx as nx\n",
    "from matplotlib import pyplot as plt\n",
    "\n",
    "from minimal.arch import Generator\n",
    "\n",
    "from minimal.dataset import (\n",
    "    FloorplanGraphDataset,\n",
    "    floorplan_collate_fn,\n",
    "    reader\n",
    ")\n",
    "\n",
    "from minimal.utils import (\n",
    "    init_input,\n",
    "    draw_masks,\n",
    "    draw_graph\n",
    ")\n",
    "\n",
    "%matplotlib inline"
   ]
  },
  {
   "cell_type": "code",
   "execution_count": 20,
   "id": "5d60fd5c-afec-4d49-b7be-948708b7f59c",
   "metadata": {},
   "outputs": [],
   "source": [
    "DATA_PATH = \"./data/sample_list.txt\""
   ]
  },
  {
   "cell_type": "code",
   "execution_count": 21,
   "id": "34f223d3-d2f9-4b19-9e9c-b40acf73e398",
   "metadata": {},
   "outputs": [],
   "source": [
    "data_path = DATA_PATH\n",
    "transform = transforms.Normalize(mean=[0.5], std=[0.5])\n",
    "target_set = 8\n",
    "split = \"test\""
   ]
  },
  {
   "cell_type": "code",
   "execution_count": 26,
   "id": "31cf113c-c462-4e58-b8a6-7cb4efd1972d",
   "metadata": {},
   "outputs": [],
   "source": [
    "subgraphs = []"
   ]
  },
  {
   "cell_type": "code",
   "execution_count": 31,
   "id": "4886f121-267d-48df-8f56-d0e690427350",
   "metadata": {},
   "outputs": [
    {
     "data": {
      "text/plain": [
       "['data/json/45012.json',\n",
       " 'data/json/45161.json',\n",
       " 'data/json/36233.json',\n",
       " 'data/json/19307.json',\n",
       " 'data/json/7513.json',\n",
       " 'data/json/18477.json']"
      ]
     },
     "execution_count": 31,
     "metadata": {},
     "output_type": "execute_result"
    }
   ],
   "source": [
    "with open(data_path, \"r\") as f1:\n",
    "    lines = f1.readlines()\n",
    "    lines = list(map(lambda x: x.strip(), lines))\n",
    "\n",
    "lines"
   ]
  },
  {
   "cell_type": "code",
   "execution_count": 44,
   "id": "b2415d7e-614a-43e1-81ff-b013b0cdbd4e",
   "metadata": {},
   "outputs": [],
   "source": [
    "for line in lines:\n",
    "    rms_type, fp_eds, rms_bbs, eds_to_rms, eds_to_rms_tmp = reader(line)\n",
    "    \n",
    "    subgraphs.append([\n",
    "        rms_type,\n",
    "        rms_bbs,\n",
    "        fp_eds,\n",
    "        eds_to_rms,\n",
    "        eds_to_rms_tmp,\n",
    "    ])"
   ]
  }
 ],
 "metadata": {
  "kernelspec": {
   "display_name": "Python 3 (ipykernel)",
   "language": "python",
   "name": "python3"
  },
  "language_info": {
   "codemirror_mode": {
    "name": "ipython",
    "version": 3
   },
   "file_extension": ".py",
   "mimetype": "text/x-python",
   "name": "python",
   "nbconvert_exporter": "python",
   "pygments_lexer": "ipython3",
   "version": "3.9.21"
  }
 },
 "nbformat": 4,
 "nbformat_minor": 5
}
