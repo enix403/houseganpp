{
 "cells": [
  {
   "cell_type": "code",
   "execution_count": null,
   "id": "a6e7232a-b94b-4bb7-b046-2ae9df02b99c",
   "metadata": {},
   "outputs": [],
   "source": [
    "%load_ext autoreload\n",
    "%autoreload 2"
   ]
  },
  {
   "cell_type": "code",
   "execution_count": 4,
   "id": "bd22a129-7d7d-4c98-b93f-f3e7e6212757",
   "metadata": {},
   "outputs": [],
   "source": [
    "import os\n",
    "import numpy as np\n",
    "import json\n",
    "\n",
    "import torch\n",
    "from torchvision.utils import save_image\n",
    "import networkx as nx\n",
    "from matplotlib import pyplot as plt\n",
    "\n",
    "from minimal.arch import Generator\n",
    "from minimal.dataset import FloorplanGraphDataset\n",
    "from minimal.utils import (\n",
    "    init_input,\n",
    "    draw_masks,\n",
    "    draw_graph\n",
    ")\n",
    "\n",
    "%matplotlib inline"
   ]
  },
  {
   "cell_type": "code",
   "execution_count": 5,
   "id": "f7749599-3f98-4b54-9767-46ddfa5b5daa",
   "metadata": {},
   "outputs": [],
   "source": [
    "PRETRAINED_PATH = \"./checkpoints/pretrained.pth\"\n",
    "DATA_PATH = \"./data/sample_list.txt\"\n",
    "OUT_PATH = \"./dump\""
   ]
  },
  {
   "cell_type": "code",
   "execution_count": 7,
   "id": "7723d106-4727-45f5-938f-dd4a329c861b",
   "metadata": {},
   "outputs": [],
   "source": [
    "fp_dataset = FloorplanGraphDataset(DATA_PATH)"
   ]
  },
  {
   "cell_type": "code",
   "execution_count": 6,
   "id": "57f2c6b0-b076-49d3-8937-104e3f17a0fd",
   "metadata": {},
   "outputs": [],
   "source": [
    "model = Generator()\n",
    "model.load_state_dict(\n",
    "    torch.load(PRETRAINED_PATH, map_location=torch.device(\"cpu\")), strict=True\n",
    ")\n",
    "model = model.eval()"
   ]
  },
  {
   "cell_type": "code",
   "execution_count": 11,
   "id": "9b30407e-07a6-4fe6-bf7c-8e8b13f1b444",
   "metadata": {},
   "outputs": [],
   "source": [
    "sample = next(iter(fp_dataset))"
   ]
  },
  {
   "cell_type": "code",
   "execution_count": 27,
   "id": "84cd4718-1534-4549-bf0c-62a1fbf42f0f",
   "metadata": {},
   "outputs": [],
   "source": [
    "def _infer(graph, model, prev_state=None):\n",
    "    z, given_masks_in, given_nds, given_eds = init_input(graph, prev_state)\n",
    "\n",
    "    with torch.no_grad():\n",
    "        masks = model(z, given_masks_in, given_nds, given_eds)\n",
    "        masks = masks.detach().cpu().numpy()\n",
    "\n",
    "    return masks"
   ]
  },
  {
   "cell_type": "code",
   "execution_count": 26,
   "id": "5266d4fe-4452-483a-a347-5ae53cf26c3f",
   "metadata": {},
   "outputs": [],
   "source": [
    "NUM_ITERS = 10\n",
    "\n",
    "_, nds, eds = sample\n",
    "graph = [nds, eds]\n",
    "\n",
    "rms_type_z = np.where(nds==1)[1]\n",
    "_types = sorted(list(set(rms_type_z)))\n",
    "selected_types = [_types[:k+1] for k in range(NUM_ITERS)]"
   ]
  },
  {
   "cell_type": "code",
   "execution_count": 28,
   "id": "eba8331b-52f1-481c-8790-1cd3a15738db",
   "metadata": {},
   "outputs": [
    {
     "name": "stderr",
     "output_type": "stream",
     "text": [
      "/home/radium/ser/follows/houseganpp/minimal/utils.py:64: UserWarning: To copy construct from a tensor, it is recommended to use sourceTensor.clone().detach() or sourceTensor.clone().detach().requires_grad_(True), rather than torch.tensor(sourceTensor).\n",
      "  given_eds = torch.tensor(given_eds).long()\n",
      "/home/radium/ser/follows/houseganpp/minimal/utils.py:186: UserWarning: To copy construct from a tensor, it is recommended to use sourceTensor.clone().detach() or sourceTensor.clone().detach().requires_grad_(True), rather than torch.tensor(sourceTensor).\n",
      "  given_masks = torch.tensor(prev_mks)\n"
     ]
    }
   ],
   "source": [
    "masks = _infer(graph, model, { \"masks\": None, \"fixed_nodes\": [] })"
   ]
  },
  {
   "cell_type": "code",
   "execution_count": 35,
   "id": "011ce303-70e8-4f37-a6f4-6c0e8c9c714f",
   "metadata": {},
   "outputs": [
    {
     "data": {
      "text/plain": [
       "<matplotlib.image.AxesImage at 0x7d58ed92fb80>"
      ]
     },
     "execution_count": 35,
     "metadata": {},
     "output_type": "execute_result"
    },
    {
     "data": {
      "image/png": "[encoded data removed]",
      "text/plain": [
       "<Figure size 640x480 with 1 Axes>"
      ]
     },
     "metadata": {},
     "output_type": "display_data"
    }
   ],
   "source": [
    "plt.imshow(masks[-1])"
   ]
  },
  {
   "cell_type": "code",
   "execution_count": 40,
   "id": "c1172889-c60c-447c-be81-5a3f1bd774f9",
   "metadata": {},
   "outputs": [
    {
     "data": {
      "text/plain": [
       "array([ 4,  2,  2,  3,  1,  0, 16, 16, 16, 16, 16, 14])"
      ]
     },
     "execution_count": 40,
     "metadata": {},
     "output_type": "execute_result"
    }
   ],
   "source": [
    "rms_type_z"
   ]
  },
  {
   "cell_type": "code",
   "execution_count": 48,
   "id": "28bd7c6e-c25e-45cc-898c-03919206bbe2",
   "metadata": {},
   "outputs": [
    {
     "data": {
      "text/plain": [
       "(torch.float32, torch.float32)"
      ]
     },
     "execution_count": 48,
     "metadata": {},
     "output_type": "execute_result"
    }
   ],
   "source": [
    "nds.dtype, nds.float().dtype"
   ]
  }
 ],
 "metadata": {
  "kernelspec": {
   "display_name": "Python 3 (ipykernel)",
   "language": "python",
   "name": "python3"
  },
  "language_info": {
   "codemirror_mode": {
    "name": "ipython",
    "version": 3
   },
   "file_extension": ".py",
   "mimetype": "text/x-python",
   "name": "python",
   "nbconvert_exporter": "python",
   "pygments_lexer": "ipython3",
   "version": "3.9.21"
  }
 },
 "nbformat": 4,
 "nbformat_minor": 5
}
