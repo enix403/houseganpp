{
 "cells": [
  {
   "cell_type": "code",
   "execution_count": 1,
   "id": "2ad02a19-dcd0-4b86-ae42-6c81bd2013c6",
   "metadata": {},
   "outputs": [],
   "source": [
    "%load_ext autoreload\n",
    "%autoreload 2"
   ]
  },
  {
   "cell_type": "code",
   "execution_count": 74,
   "id": "620ce43d-25fb-4027-bc61-353121ad592c",
   "metadata": {},
   "outputs": [],
   "source": [
    "import os\n",
    "import argparse\n",
    "import numpy as np\n",
    "\n",
    "import torch\n",
    "import torchvision.transforms as transforms\n",
    "from torchvision.utils import save_image\n",
    "import networkx as nx\n",
    "from matplotlib import pyplot as plt\n",
    "\n",
    "from minimal.arch import Generator\n",
    "\n",
    "from minimal.dataset import (\n",
    "    FloorplanGraphDataset,\n",
    "    floorplan_collate_fn\n",
    ")\n",
    "\n",
    "from minimal.utils import (\n",
    "    init_input,\n",
    "    draw_masks,\n",
    "    draw_graph\n",
    ")\n",
    "\n",
    "%matplotlib inline"
   ]
  },
  {
   "cell_type": "code",
   "execution_count": 3,
   "id": "2aaac868-53e8-4e7b-8005-a554b5a50e13",
   "metadata": {},
   "outputs": [],
   "source": [
    "PRETRAINED_PATH = \"./checkpoints/pretrained.pth\"\n",
    "DATA_PATH = \"./data/sample_list.txt\"\n",
    "OUT_PATH = \"./dump\"\n",
    "\n",
    "os.makedirs(OUT_PATH, exist_ok=True)"
   ]
  },
  {
   "cell_type": "code",
   "execution_count": 4,
   "id": "cc72e216-5a6a-44f3-8662-0a770931bf9d",
   "metadata": {},
   "outputs": [],
   "source": [
    "model = Generator()\n",
    "model.load_state_dict(torch.load(PRETRAINED_PATH, map_location=torch.device('cpu')), strict=True)\n",
    "model = model.eval()"
   ]
  },
  {
   "cell_type": "code",
   "execution_count": 5,
   "id": "11fc0d40-48f4-4829-acb1-e0a2b540be7c",
   "metadata": {},
   "outputs": [
    {
     "name": "stdout",
     "output_type": "stream",
     "text": [
      "6\n"
     ]
    }
   ],
   "source": [
    "# initialize dataset iterator\n",
    "fp_dataset_test = FloorplanGraphDataset(\n",
    "    DATA_PATH,\n",
    "    transforms.Normalize(mean=[0.5], std=[0.5]),\n",
    "    split='test'\n",
    ")\n",
    "\n",
    "fp_loader = torch.utils.data.DataLoader(\n",
    "    fp_dataset_test, \n",
    "    batch_size=1, \n",
    "    shuffle=False,\n",
    "    collate_fn=floorplan_collate_fn\n",
    ")"
   ]
  },
  {
   "cell_type": "code",
   "execution_count": 68,
   "id": "4f20bffe-a1a7-47c1-94d9-01722f9ca837",
   "metadata": {},
   "outputs": [],
   "source": [
    "# run inference\n",
    "def _infer(graph, model, prev_state=None):\n",
    "    \n",
    "    # configure input to the network\n",
    "    z, given_masks_in, given_nds, given_eds = init_input(graph, prev_state)\n",
    "    # run inference model\n",
    "    with torch.no_grad():\n",
    "        masks = model(z, given_masks_in, given_nds, given_eds)\n",
    "        masks = masks.detach().cpu().numpy()\n",
    "    return masks"
   ]
  },
  {
   "cell_type": "code",
   "execution_count": 61,
   "id": "e1a8cc36-2950-4931-84d6-61b27d8904bf",
   "metadata": {},
   "outputs": [],
   "source": [
    "i = 0\n",
    "sample = next(iter(fp_loader))"
   ]
  },
  {
   "cell_type": "code",
   "execution_count": 62,
   "id": "7ae4d96b-eeb5-449a-bbb8-9a6a855f57f0",
   "metadata": {},
   "outputs": [],
   "source": [
    "# mks (R, 64, 64) = GT segmentation mask per room\n",
    "# nds (R, 18) = one hot encoding per room\n",
    "# eds (E, 3) = per edge [node_1, -1 / 1 ???, node_2]\n",
    "mks, nds, eds, _, _ = sample"
   ]
  },
  {
   "cell_type": "code",
   "execution_count": 63,
   "id": "d44e5a81-6ea9-4fa4-88f6-fef9e652c464",
   "metadata": {},
   "outputs": [],
   "source": [
    "# (R,) undo one hot encoding (0-index based)\n",
    "real_nodes = np.where(nds.detach().cpu()==1)[-1]\n",
    "graph = [nds, eds]"
   ]
  },
  {
   "cell_type": "code",
   "execution_count": 64,
   "id": "5c2fea0d-7c08-4aae-8abb-f4dc149355d8",
   "metadata": {},
   "outputs": [
    {
     "name": "stderr",
     "output_type": "stream",
     "text": [
      "/home/radium/ser/follows/houseganpp/minimal/utils.py:139: UserWarning: This figure includes Axes that are not compatible with tight_layout, so results might be incorrect.\n",
      "  plt.tight_layout()\n"
     ]
    }
   ],
   "source": [
    "true_graph_obj, graph_im = draw_graph([real_nodes, eds.detach().cpu().numpy()])"
   ]
  },
  {
   "cell_type": "code",
   "execution_count": 66,
   "id": "1f6c4b05-a22e-4032-b4fe-5e607bc91508",
   "metadata": {},
   "outputs": [
    {
     "name": "stdout",
     "output_type": "stream",
     "text": [
      "[[0], [0, 1], [0, 1, 2], [0, 1, 2, 3], [0, 1, 2, 3, 4], [0, 1, 2, 3, 4, 14], [0, 1, 2, 3, 4, 14, 16], [0, 1, 2, 3, 4, 14, 16], [0, 1, 2, 3, 4, 14, 16], [0, 1, 2, 3, 4, 14, 16]]\n"
     ]
    }
   ],
   "source": [
    "_types = sorted(list(set(real_nodes)))\n",
    "selected_types = [_types[:k+1] for k in range(10)]\n",
    "print(selected_types)"
   ]
  },
  {
   "cell_type": "code",
   "execution_count": 69,
   "id": "8093d173-8011-4f3c-8bdd-99c3987c6195",
   "metadata": {},
   "outputs": [
    {
     "name": "stderr",
     "output_type": "stream",
     "text": [
      "/home/radium/ser/follows/houseganpp/minimal/utils.py:44: UserWarning: To copy construct from a tensor, it is recommended to use sourceTensor.clone().detach() or sourceTensor.clone().detach().requires_grad_(True), rather than torch.tensor(sourceTensor).\n",
      "  given_eds = torch.tensor(given_eds).long()\n",
      "/home/radium/ser/follows/houseganpp/minimal/utils.py:149: UserWarning: To copy construct from a tensor, it is recommended to use sourceTensor.clone().detach() or sourceTensor.clone().detach().requires_grad_(True), rather than torch.tensor(sourceTensor).\n",
      "  given_masks = torch.tensor(prev_mks)\n"
     ]
    }
   ],
   "source": [
    "# initialize layout\n",
    "state = {\n",
    "    'masks': None,\n",
    "    'fixed_nodes': []\n",
    "}\n",
    "\n",
    "masks = _infer(graph, model, state)"
   ]
  },
  {
   "cell_type": "code",
   "execution_count": 94,
   "id": "bf9117ac-6c1f-4706-80c9-816e144c411b",
   "metadata": {},
   "outputs": [
    {
     "data": {
      "text/plain": [
       "<matplotlib.image.AxesImage at 0x7001d329a7c0>"
      ]
     },
     "execution_count": 94,
     "metadata": {},
     "output_type": "execute_result"
    },
    {
     "data": {
      "image/png": "[encoded data removed]",
      "text/plain": [
       "<Figure size 640x480 with 1 Axes>"
      ]
     },
     "metadata": {},
     "output_type": "display_data"
    }
   ],
   "source": [
    "plt.imshow(masks.sum(0))"
   ]
  },
  {
   "cell_type": "code",
   "execution_count": null,
   "id": "eb92c9b5-7727-4168-9ff4-1dfb10b5af51",
   "metadata": {},
   "outputs": [],
   "source": []
  }
 ],
 "metadata": {
  "kernelspec": {
   "display_name": "Python 3 (ipykernel)",
   "language": "python",
   "name": "python3"
  },
  "language_info": {
   "codemirror_mode": {
    "name": "ipython",
    "version": 3
   },
   "file_extension": ".py",
   "mimetype": "text/x-python",
   "name": "python",
   "nbconvert_exporter": "python",
   "pygments_lexer": "ipython3",
   "version": "3.9.21"
  }
 },
 "nbformat": 4,
 "nbformat_minor": 5
}
