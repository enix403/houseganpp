{
 "cells": [
  {
   "cell_type": "code",
   "execution_count": 1,
   "id": "2ad02a19-dcd0-4b86-ae42-6c81bd2013c6",
   "metadata": {},
   "outputs": [],
   "source": [
    "%load_ext autoreload\n",
    "%autoreload 2"
   ]
  },
  {
   "cell_type": "code",
   "execution_count": 3,
   "id": "620ce43d-25fb-4027-bc61-353121ad592c",
   "metadata": {},
   "outputs": [],
   "source": [
    "import os\n",
    "import argparse\n",
    "import numpy as np\n",
    "\n",
    "import torch\n",
    "import torchvision.transforms as transforms\n",
    "from torchvision.utils import save_image\n",
    "\n",
    "from dataset.floorplan_dataset_maps_functional_high_res import (\n",
    "    FloorplanGraphDataset,\n",
    "    floorplan_collate_fn\n",
    ")\n",
    "\n",
    "from models.models import Generator\n",
    "from misc.utils import _init_input, draw_masks, draw_graph"
   ]
  },
  {
   "cell_type": "code",
   "execution_count": 4,
   "id": "2aaac868-53e8-4e7b-8005-a554b5a50e13",
   "metadata": {},
   "outputs": [],
   "source": [
    "PRETRAINED_PATH = \"./checkpoints/pretrained.pth\"\n",
    "DATA_PATH = \"./data/sample_list.txt\"\n",
    "OUT_PATH = \"./dump\"\n",
    "\n",
    "os.makedirs(OUT_PATH, exist_ok=True)"
   ]
  },
  {
   "cell_type": "code",
   "execution_count": 6,
   "id": "cc72e216-5a6a-44f3-8662-0a770931bf9d",
   "metadata": {},
   "outputs": [],
   "source": [
    "model = Generator()\n",
    "model.load_state_dict(torch.load(PRETRAINED_PATH, map_location=torch.device('cpu')), strict=True)\n",
    "model = model.eval()"
   ]
  },
  {
   "cell_type": "code",
   "execution_count": 7,
   "id": "11fc0d40-48f4-4829-acb1-e0a2b540be7c",
   "metadata": {},
   "outputs": [
    {
     "name": "stdout",
     "output_type": "stream",
     "text": [
      "6\n"
     ]
    }
   ],
   "source": [
    "# initialize dataset iterator\n",
    "fp_dataset_test = FloorplanGraphDataset(\n",
    "    DATA_PATH,\n",
    "    transforms.Normalize(mean=[0.5], std=[0.5]),\n",
    "    split='test'\n",
    ")\n",
    "\n",
    "fp_loader = torch.utils.data.DataLoader(\n",
    "    fp_dataset_test, \n",
    "    batch_size=1, \n",
    "    shuffle=False,\n",
    "    collate_fn=floorplan_collate_fn\n",
    ")"
   ]
  },
  {
   "cell_type": "code",
   "execution_count": 8,
   "id": "4f20bffe-a1a7-47c1-94d9-01722f9ca837",
   "metadata": {},
   "outputs": [],
   "source": [
    "# run inference\n",
    "def _infer(graph, model, prev_state=None):\n",
    "    \n",
    "    # configure input to the network\n",
    "    z, given_masks_in, given_nds, given_eds = _init_input(graph, prev_state)\n",
    "    # run inference model\n",
    "    with torch.no_grad():\n",
    "        masks = model(z, given_masks_in, given_nds, given_eds)\n",
    "        masks = masks.detach().cpu().numpy()\n",
    "    return masks"
   ]
  },
  {
   "cell_type": "code",
   "execution_count": 16,
   "id": "3daae240-90b0-48bc-8a13-e82f706aa6fa",
   "metadata": {},
   "outputs": [
    {
     "name": "stderr",
     "output_type": "stream",
     "text": [
      "/home/radium/ser/follows/houseganpp/misc/utils.py:239: UserWarning: This figure includes Axes that are not compatible with tight_layout, so results might be incorrect.\n",
      "  plt.tight_layout()\n",
      "/home/radium/ser/follows/houseganpp/misc/utils.py:107: UserWarning: To copy construct from a tensor, it is recommended to use sourceTensor.clone().detach() or sourceTensor.clone().detach().requires_grad_(True), rather than torch.tensor(sourceTensor).\n",
      "  given_eds = torch.tensor(given_eds).long()\n",
      "/home/radium/ser/follows/houseganpp/misc/utils.py:91: UserWarning: To copy construct from a tensor, it is recommended to use sourceTensor.clone().detach() or sourceTensor.clone().detach().requires_grad_(True), rather than torch.tensor(sourceTensor).\n",
      "  given_masks = torch.tensor(prev_mks)\n"
     ]
    },
    {
     "name": "stdout",
     "output_type": "stream",
     "text": [
      "CPU times: user 16.3 s, sys: 2.17 s, total: 18.5 s\n",
      "Wall time: 5.5 s\n"
     ]
    }
   ],
   "source": [
    "%%time\n",
    "\n",
    "if True:\n",
    "    i, sample = next(enumerate(fp_loader))\n",
    "    # draw real graph and groundtruth\n",
    "    mks, nds, eds, _, _ = sample\n",
    "    real_nodes = np.where(nds.detach().cpu()==1)[-1]\n",
    "    graph = [nds, eds]\n",
    "    true_graph_obj, graph_im = draw_graph([real_nodes, eds.detach().cpu().numpy()])\n",
    "    graph_im.save('./{}/graph_{}.png'.format(OUT_PATH, i)) # save graph\n",
    "\n",
    "    # add room types incrementally\n",
    "    _types = sorted(list(set(real_nodes)))\n",
    "    selected_types = [_types[:k+1] for k in range(10)]\n",
    "    os.makedirs('./{}/'.format(OUT_PATH), exist_ok=True)\n",
    "    _round = 0\n",
    "    \n",
    "    # initialize layout\n",
    "    state = {'masks': None, 'fixed_nodes': []}\n",
    "    masks = _infer(graph, model, state)\n",
    "    im0 = draw_masks(masks.copy(), real_nodes)\n",
    "    im0 = torch.tensor(np.array(im0).transpose((2, 0, 1)))/255.0 \n",
    "    # save_image(im0, './{}/fp_init_{}.png'.format(OUT_PATH, i), nrow=1, normalize=False) # visualize init image\n",
    "\n",
    "    # generate per room type\n",
    "    for _iter, _types in enumerate(selected_types):\n",
    "        _fixed_nds = np.concatenate([np.where(real_nodes == _t)[0] for _t in _types]) \\\n",
    "            if len(_types) > 0 else np.array([]) \n",
    "        state = {'masks': masks, 'fixed_nodes': _fixed_nds}\n",
    "        masks = _infer(graph, model, state)\n",
    "        \n",
    "    # save final floorplans\n",
    "    imk = draw_masks(masks.copy(), real_nodes)\n",
    "    imk = torch.tensor(np.array(imk).transpose((2, 0, 1)))/255.0 \n",
    "    save_image(imk, './{}/fp_final_{}.png'.format(OUT_PATH, i), nrow=1, normalize=False)\n"
   ]
  }
 ],
 "metadata": {
  "kernelspec": {
   "display_name": "Python 3 (ipykernel)",
   "language": "python",
   "name": "python3"
  },
  "language_info": {
   "codemirror_mode": {
    "name": "ipython",
    "version": 3
   },
   "file_extension": ".py",
   "mimetype": "text/x-python",
   "name": "python",
   "nbconvert_exporter": "python",
   "pygments_lexer": "ipython3",
   "version": "3.9.21"
  }
 },
 "nbformat": 4,
 "nbformat_minor": 5
}
